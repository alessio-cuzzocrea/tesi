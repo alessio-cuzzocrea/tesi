{
 "cells": [
  {
   "cell_type": "code",
   "execution_count": 6,
   "metadata": {},
   "outputs": [],
   "source": [
    "from collections import defaultdict\n",
    "from bioinformatics_helpers.utils import get_mendelian_dataset\n",
    "import matplotlib.pyplot as plt\n",
    "\n",
    "train_X, train_y, test_X, test_y = get_mendelian_dataset(True)"
   ]
  },
  {
   "cell_type": "code",
   "execution_count": 7,
   "metadata": {},
   "outputs": [
    {
     "data": {
      "image/png": "[encoded data removed]",
      "text/plain": [
       "<Figure size 432x288 with 1 Axes>"
      ]
     },
     "metadata": {
      "needs_background": "light"
     },
     "output_type": "display_data"
    },
    {
     "data": {
      "text/plain": [
       "defaultdict(<function __main__.<lambda>()>,\n",
       "            {'chrX': 37354,\n",
       "             'chrY': 2900,\n",
       "             'chr1': 74608,\n",
       "             'chr6': 59810,\n",
       "             'chr2': 84872,\n",
       "             'chr13': 35321,\n",
       "             'chr9': 40932,\n",
       "             'chr4': 69400,\n",
       "             'chr10': 46116,\n",
       "             'chr20': 22124,\n",
       "             'chr21': 13399,\n",
       "             'chr3': 70331,\n",
       "             'chr16': 30765,\n",
       "             'chr8': 56070,\n",
       "             'chr11': 46048,\n",
       "             'chr7': 55543,\n",
       "             'chr12': 45318,\n",
       "             'chr18': 28428,\n",
       "             'chr17': 26017,\n",
       "             'chr15': 28229,\n",
       "             'chr5': 64191,\n",
       "             'chr14': 30852,\n",
       "             'chr22': 12404})"
      ]
     },
     "execution_count": 7,
     "metadata": {},
     "output_type": "execute_result"
    }
   ],
   "source": [
    "\n",
    "chromosomes = train_X.index.tolist()[356:]\n",
    "chromosomes = [x.split(\".\")[0] for x in chromosomes]\n",
    "counts = defaultdict(lambda : 0)\n",
    "for c in chromosomes:\n",
    "    counts[c] += 1\n",
    "\n",
    "plt.bar(range(len(counts)), list(counts.values()), align='center')\n",
    "plt.xticks(range(len(counts)), list(counts.keys()), rotation=\"vertical\")\n",
    "\n",
    "plt.show()\n",
    "counts"
   ]
  },
  {
   "cell_type": "code",
   "execution_count": null,
   "metadata": {},
   "outputs": [],
   "source": []
  }
 ],
 "metadata": {
  "kernelspec": {
   "display_name": "Python 3",
   "language": "python",
   "name": "python3"
  },
  "language_info": {
   "codemirror_mode": {
    "name": "ipython",
    "version": 3
   },
   "file_extension": ".py",
   "mimetype": "text/x-python",
   "name": "python",
   "nbconvert_exporter": "python",
   "pygments_lexer": "ipython3",
   "version": "3.6.6"
  }
 },
 "nbformat": 4,
 "nbformat_minor": 2
}
