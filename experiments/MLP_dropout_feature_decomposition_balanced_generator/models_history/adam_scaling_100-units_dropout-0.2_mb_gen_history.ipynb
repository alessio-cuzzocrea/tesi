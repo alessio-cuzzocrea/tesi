{
 "cells": [
  {
   "cell_type": "code",
   "execution_count": 1,
   "metadata": {},
   "outputs": [
    {
     "name": "stderr",
     "output_type": "stream",
     "text": [
      "Using TensorFlow backend.\n"
     ]
    }
   ],
   "source": [
    "import numpy as np\n",
    "import tensorflow as tf\n",
    "import random as rn\n",
    "\n",
    "# The below is necessary in Python 3.2.3 onwards to\n",
    "# have reproducible behavior for certain hash-based operations.\n",
    "# See these references for further details:\n",
    "# https://docs.python.org/3.4/using/cmdline.html#envvar-PYTHONHASHSEED\n",
    "# https://github.com/keras-team/keras/issues/2280#issuecomment-306959926\n",
    "my_seed = 2024\n",
    "import os\n",
    "os.environ['PYTHONHASHSEED'] = '0'\n",
    "\n",
    "# The below is necessary for starting Numpy generated random numbers\n",
    "# in a well-defined initial state.\n",
    "\n",
    "np.random.seed(my_seed)\n",
    "\n",
    "# The below is necessary for starting core Python generated random numbers\n",
    "# in a well-defined state.\n",
    "\n",
    "rn.seed(my_seed)\n",
    "\n",
    "# Force TensorFlow to use single thread. (to force it set the threads to 1)\n",
    "# Multiple threads are a potential source of\n",
    "# non-reproducible results.\n",
    "# For further details, see: https://stackoverflow.com/questions/42022950/which-seeds-have-to-be-set-where-to-realize-100-reproducibility-of-training-res\n",
    "\n",
    "session_conf = tf.ConfigProto(intra_op_parallelism_threads=0, inter_op_parallelism_threads=0)\n",
    "\n",
    "from keras import backend as K\n",
    "\n",
    "# The below tf.set_random_seed() will make random number generation\n",
    "# in the TensorFlow backend have a well-defined initial state.\n",
    "# For further details, see: https://www.tensorflow.org/api_docs/python/tf/set_random_seed\n",
    "\n",
    "tf.set_random_seed(my_seed)\n",
    "\n",
    "sess = tf.Session(graph=tf.get_default_graph(), config=session_conf)\n",
    "K.set_session(sess)\n",
    "\n",
    "rn.seed(my_seed)\n",
    "#--- all other imports\n",
    "import pandas as pd\n",
    "from keras.models import Sequential\n",
    "from keras.layers import Dense, Dropout\n",
    "import keras.backend\n",
    "from keras.wrappers.scikit_learn import KerasClassifier\n",
    "from sklearn.model_selection import GridSearchCV\n",
    "from keras.optimizers import SGD, Adam\n",
    "from numpy.random import seed\n",
    "from sklearn.model_selection import cross_val_score\n",
    "from sklearn.model_selection import StratifiedKFold\n",
    "from sklearn.metrics import f1_score\n",
    "from sklearn.metrics import roc_auc_score\n",
    "from sklearn.metrics import make_scorer\n",
    "from sklearn.metrics import auc\n",
    "from sklearn.metrics import precision_recall_curve\n",
    "from sklearn.externals import joblib\n",
    "from sklearn.model_selection import cross_validate\n",
    "from sklearn.metrics import average_precision_score\n",
    "from sklearn.pipeline import Pipeline\n",
    "from sklearn.preprocessing import StandardScaler\n",
    "import copy\n",
    "from bioinformatics_helpers.utils import get_mendelian_dataset\n",
    "from bioinformatics_helpers.utils import hingesig_tf\n",
    "from bioinformatics_helpers.utils import GetAUPRCCallback\n",
    "from bioinformatics_helpers.balanced_generator import BalancedGenerator\n",
    "from bioinformatics_helpers.utils import CustomKerasClassifier\n",
    "\n",
    "import dill"
   ]
  },
  {
   "cell_type": "code",
   "execution_count": 2,
   "metadata": {},
   "outputs": [],
   "source": [
    "feature_per_example = 26\n",
    "batch_size = 5000"
   ]
  },
  {
   "cell_type": "code",
   "execution_count": 3,
   "metadata": {},
   "outputs": [],
   "source": [
    "def create_model(architecture=(100,), dropout_rate=0.2):\n",
    "    model = Sequential()\n",
    "    weights_initializer = keras.initializers.glorot_normal(seed=my_seed)\n",
    "    bias_init = keras.initializers.RandomNormal(mean=0.1, stddev=0.05, seed=my_seed)\n",
    "    input_dim = feature_per_example\n",
    "    for units in architecture:\n",
    "        model.add(\n",
    "            Dense(\n",
    "                units,\n",
    "                input_dim = input_dim,\n",
    "                kernel_initializer = weights_initializer,\n",
    "                bias_initializer = bias_init,\n",
    "                activation=\"relu\"\n",
    "            )\n",
    "        )\n",
    "        input_dim=None # for the next layer keras infers its dimensions\n",
    "        model.add(\n",
    "            Dropout(rate=dropout_rate, seed=my_seed)\n",
    "        )\n",
    "        \n",
    "    model.add(\n",
    "        Dense(\n",
    "            1,\n",
    "            kernel_initializer=weights_initializer,\n",
    "            bias_initializer=keras.initializers.zeros(),\n",
    "            activation='sigmoid'\n",
    "    ))\n",
    "    optimizer = Adam()\n",
    "    model.compile(loss=hingesig_tf, optimizer=optimizer)\n",
    "    return model"
   ]
  },
  {
   "cell_type": "code",
   "execution_count": 4,
   "metadata": {},
   "outputs": [
    {
     "name": "stdout",
     "output_type": "stream",
     "text": [
      "_________________________________________________________________\n",
      "Layer (type)                 Output Shape              Param #   \n",
      "=================================================================\n",
      "dense_1 (Dense)              (None, 100)               2700      \n",
      "_________________________________________________________________\n",
      "dropout_1 (Dropout)          (None, 100)               0         \n",
      "_________________________________________________________________\n",
      "dense_2 (Dense)              (None, 1)                 101       \n",
      "=================================================================\n",
      "Total params: 2,801\n",
      "Trainable params: 2,801\n",
      "Non-trainable params: 0\n",
      "_________________________________________________________________\n"
     ]
    }
   ],
   "source": [
    "create_model().summary()"
   ]
  },
  {
   "cell_type": "code",
   "execution_count": 5,
   "metadata": {},
   "outputs": [],
   "source": [
    "train_X, train_y, test_X, test_y = get_mendelian_dataset()\n",
    "scaler = StandardScaler()\n",
    "scaler.fit(train_X)\n",
    "scaled_train_X = scaler.transform(train_X)\n",
    "scaled_test_X = scaler.transform(test_X)\n",
    "callback = GetAUPRCCallback(test_X=scaled_test_X, test_y=test_y, train_X=scaled_train_X, train_y=train_y)"
   ]
  },
  {
   "cell_type": "code",
   "execution_count": 6,
   "metadata": {},
   "outputs": [
    {
     "name": "stdout",
     "output_type": "stream",
     "text": [
      "Epoch 1/100\n",
      "368/368 [==============================] - 15s 40ms/step - loss: 0.1017\n",
      "Epoch 2/100\n",
      "368/368 [==============================] - 15s 40ms/step - loss: 0.0502\n",
      "Epoch 3/100\n",
      "368/368 [==============================] - 15s 41ms/step - loss: 0.0399\n",
      "Epoch 4/100\n",
      "368/368 [==============================] - 15s 42ms/step - loss: 0.0328\n",
      "Epoch 5/100\n",
      "368/368 [==============================] - 15s 40ms/step - loss: 0.0273\n",
      "Epoch 6/100\n",
      "368/368 [==============================] - 15s 41ms/step - loss: 0.0233\n",
      "Epoch 7/100\n",
      "368/368 [==============================] - 15s 40ms/step - loss: 0.0199\n",
      "Epoch 8/100\n",
      "368/368 [==============================] - 15s 41ms/step - loss: 0.0171\n",
      "Epoch 9/100\n",
      "368/368 [==============================] - 15s 40ms/step - loss: 0.0147\n",
      "Epoch 10/100\n",
      "368/368 [==============================] - 15s 42ms/step - loss: 0.0129\n",
      "Epoch 11/100\n",
      "368/368 [==============================] - 15s 40ms/step - loss: 0.0116\n",
      "Epoch 12/100\n",
      "368/368 [==============================] - 12s 34ms/step - loss: 0.0105\n",
      "Epoch 13/100\n",
      "368/368 [==============================] - 9s 25ms/step - loss: 0.0096\n",
      "Epoch 14/100\n",
      "368/368 [==============================] - 8s 20ms/step - loss: 0.0087\n",
      "Epoch 15/100\n",
      "368/368 [==============================] - 7s 19ms/step - loss: 0.0081\n",
      "Epoch 16/100\n",
      "368/368 [==============================] - 7s 19ms/step - loss: 0.0073\n",
      "Epoch 17/100\n",
      "368/368 [==============================] - 9s 25ms/step - loss: 0.0069\n",
      "Epoch 18/100\n",
      "368/368 [==============================] - 7s 19ms/step - loss: 0.0065\n",
      "Epoch 19/100\n",
      "368/368 [==============================] - 7s 18ms/step - loss: 0.0058\n",
      "Epoch 20/100\n",
      "368/368 [==============================] - 7s 18ms/step - loss: 0.0056\n",
      "Epoch 21/100\n",
      "368/368 [==============================] - 7s 19ms/step - loss: 0.0054\n",
      "Epoch 22/100\n",
      "368/368 [==============================] - 7s 19ms/step - loss: 0.0049\n",
      "Epoch 23/100\n",
      "368/368 [==============================] - 7s 18ms/step - loss: 0.0047\n",
      "Epoch 24/100\n",
      "368/368 [==============================] - 7s 18ms/step - loss: 0.0043\n",
      "Epoch 25/100\n",
      "368/368 [==============================] - 7s 19ms/step - loss: 0.0041\n",
      "Epoch 26/100\n",
      "368/368 [==============================] - 7s 19ms/step - loss: 0.0039\n",
      "Epoch 27/100\n",
      "368/368 [==============================] - 7s 18ms/step - loss: 0.0037\n",
      "Epoch 28/100\n",
      "368/368 [==============================] - 7s 18ms/step - loss: 0.0035\n",
      "Epoch 29/100\n",
      "368/368 [==============================] - 7s 19ms/step - loss: 0.0033\n",
      "Epoch 30/100\n",
      "368/368 [==============================] - 7s 19ms/step - loss: 0.0032\n",
      "Epoch 31/100\n",
      "368/368 [==============================] - 7s 19ms/step - loss: 0.0031\n",
      "Epoch 32/100\n",
      "368/368 [==============================] - 7s 18ms/step - loss: 0.0030\n",
      "Epoch 33/100\n",
      "368/368 [==============================] - 7s 18ms/step - loss: 0.0029\n",
      "Epoch 34/100\n",
      "368/368 [==============================] - 7s 18ms/step - loss: 0.0028\n",
      "Epoch 35/100\n",
      "368/368 [==============================] - 7s 18ms/step - loss: 0.0027\n",
      "Epoch 36/100\n",
      "368/368 [==============================] - 7s 18ms/step - loss: 0.0026\n",
      "Epoch 37/100\n",
      "368/368 [==============================] - 7s 19ms/step - loss: 0.0026\n",
      "Epoch 38/100\n",
      "368/368 [==============================] - 7s 18ms/step - loss: 0.0025\n",
      "Epoch 39/100\n",
      "368/368 [==============================] - 7s 18ms/step - loss: 0.0025\n",
      "Epoch 40/100\n",
      "368/368 [==============================] - 7s 18ms/step - loss: 0.0024\n",
      "Epoch 41/100\n",
      "368/368 [==============================] - 7s 18ms/step - loss: 0.0024\n",
      "Epoch 42/100\n",
      "368/368 [==============================] - 7s 18ms/step - loss: 0.0023\n",
      "Epoch 43/100\n",
      "368/368 [==============================] - 7s 18ms/step - loss: 0.0022\n",
      "Epoch 44/100\n",
      "368/368 [==============================] - 7s 18ms/step - loss: 0.0022\n",
      "Epoch 45/100\n",
      "368/368 [==============================] - 7s 19ms/step - loss: 0.0022\n",
      "Epoch 46/100\n",
      "368/368 [==============================] - 7s 18ms/step - loss: 0.0021\n",
      "Epoch 47/100\n",
      "368/368 [==============================] - 7s 18ms/step - loss: 0.0021\n",
      "Epoch 48/100\n",
      "368/368 [==============================] - 7s 19ms/step - loss: 0.0020\n",
      "Epoch 49/100\n",
      "368/368 [==============================] - 7s 19ms/step - loss: 0.0020\n",
      "Epoch 50/100\n",
      "368/368 [==============================] - 7s 18ms/step - loss: 0.0019\n",
      "Epoch 51/100\n",
      "368/368 [==============================] - 7s 18ms/step - loss: 0.0018\n",
      "Epoch 52/100\n",
      "368/368 [==============================] - 7s 18ms/step - loss: 0.0018\n",
      "Epoch 53/100\n",
      "368/368 [==============================] - 7s 18ms/step - loss: 0.0019\n",
      "Epoch 54/100\n",
      "368/368 [==============================] - 7s 18ms/step - loss: 0.0018\n",
      "Epoch 55/100\n",
      "368/368 [==============================] - 7s 18ms/step - loss: 0.0018\n",
      "Epoch 56/100\n",
      "368/368 [==============================] - 7s 18ms/step - loss: 0.0017\n",
      "Epoch 57/100\n",
      "368/368 [==============================] - 7s 18ms/step - loss: 0.0017\n",
      "Epoch 58/100\n",
      "368/368 [==============================] - 7s 18ms/step - loss: 0.0017\n",
      "Epoch 59/100\n",
      "368/368 [==============================] - 7s 19ms/step - loss: 0.0016\n",
      "Epoch 60/100\n",
      "368/368 [==============================] - 7s 18ms/step - loss: 0.0017\n",
      "Epoch 61/100\n",
      "368/368 [==============================] - 7s 18ms/step - loss: 0.0016\n",
      "Epoch 62/100\n",
      "368/368 [==============================] - 7s 19ms/step - loss: 0.0016\n",
      "Epoch 63/100\n",
      "368/368 [==============================] - 7s 18ms/step - loss: 0.0016\n",
      "Epoch 64/100\n",
      "368/368 [==============================] - 7s 18ms/step - loss: 0.0015\n",
      "Epoch 65/100\n",
      "368/368 [==============================] - 7s 18ms/step - loss: 0.0016\n",
      "Epoch 66/100\n",
      "368/368 [==============================] - 7s 18ms/step - loss: 0.0015\n",
      "Epoch 67/100\n",
      "368/368 [==============================] - 7s 18ms/step - loss: 0.0015\n",
      "Epoch 68/100\n",
      "368/368 [==============================] - 7s 18ms/step - loss: 0.0014\n",
      "Epoch 69/100\n",
      "368/368 [==============================] - 7s 18ms/step - loss: 0.0015\n",
      "Epoch 70/100\n",
      "368/368 [==============================] - 7s 19ms/step - loss: 0.0014\n",
      "Epoch 71/100\n",
      "368/368 [==============================] - 7s 18ms/step - loss: 0.0014\n",
      "Epoch 72/100\n",
      "368/368 [==============================] - 7s 18ms/step - loss: 0.0014\n",
      "Epoch 73/100\n",
      "368/368 [==============================] - 7s 19ms/step - loss: 0.0014\n",
      "Epoch 74/100\n",
      "368/368 [==============================] - 7s 18ms/step - loss: 0.0013\n",
      "Epoch 75/100\n",
      "368/368 [==============================] - 7s 18ms/step - loss: 0.0014\n",
      "Epoch 76/100\n",
      "368/368 [==============================] - 7s 18ms/step - loss: 0.0013\n",
      "Epoch 77/100\n",
      "368/368 [==============================] - 7s 18ms/step - loss: 0.0013\n",
      "Epoch 78/100\n",
      "368/368 [==============================] - 7s 18ms/step - loss: 0.0013\n",
      "Epoch 79/100\n",
      "368/368 [==============================] - 7s 18ms/step - loss: 0.0013\n",
      "Epoch 80/100\n",
      "368/368 [==============================] - 7s 18ms/step - loss: 0.0013\n",
      "Epoch 81/100\n",
      "368/368 [==============================] - 7s 18ms/step - loss: 0.0013\n",
      "Epoch 82/100\n",
      "368/368 [==============================] - 7s 18ms/step - loss: 0.0012\n",
      "Epoch 83/100\n",
      "368/368 [==============================] - 7s 18ms/step - loss: 0.0013\n",
      "Epoch 84/100\n",
      "368/368 [==============================] - 7s 18ms/step - loss: 0.0013\n",
      "Epoch 85/100\n",
      "368/368 [==============================] - 7s 18ms/step - loss: 0.0012\n",
      "Epoch 86/100\n",
      "368/368 [==============================] - 7s 18ms/step - loss: 0.0013\n",
      "Epoch 87/100\n",
      "368/368 [==============================] - 7s 19ms/step - loss: 0.0012\n",
      "Epoch 88/100\n",
      "368/368 [==============================] - 7s 19ms/step - loss: 0.0012: 0s - loss: 0.001\n",
      "Epoch 89/100\n",
      "368/368 [==============================] - 7s 18ms/step - loss: 0.0012\n",
      "Epoch 90/100\n",
      "368/368 [==============================] - 7s 19ms/step - loss: 0.0012\n",
      "Epoch 91/100\n",
      "368/368 [==============================] - 7s 19ms/step - loss: 0.0012\n",
      "Epoch 92/100\n",
      "368/368 [==============================] - 8s 22ms/step - loss: 0.0012\n",
      "Epoch 93/100\n",
      "368/368 [==============================] - 9s 26ms/step - loss: 0.0012\n",
      "Epoch 94/100\n",
      "368/368 [==============================] - 8s 21ms/step - loss: 0.0011\n",
      "Epoch 95/100\n",
      "368/368 [==============================] - 10s 27ms/step - loss: 0.0011\n",
      "Epoch 96/100\n",
      "368/368 [==============================] - 9s 26ms/step - loss: 0.0012\n",
      "Epoch 97/100\n",
      "368/368 [==============================] - 8s 21ms/step - loss: 0.0011\n",
      "Epoch 98/100\n",
      "368/368 [==============================] - 8s 21ms/step - loss: 0.0011\n",
      "Epoch 99/100\n",
      "368/368 [==============================] - 7s 20ms/step - loss: 0.0012\n",
      "Epoch 100/100\n",
      "368/368 [==============================] - 8s 22ms/step - loss: 0.0011\n"
     ]
    }
   ],
   "source": [
    "gen = BalancedGenerator\n",
    "model = CustomKerasClassifier(build_fn = create_model,\n",
    "                              generator=gen,\n",
    "                              verbose=1,\n",
    "                              shuffle=True,\n",
    "                              epochs=100,\n",
    "                              np_ratio=5,\n",
    "                              positive_sample_perc=1.5,\n",
    "                              negative_perc=1)\n",
    "history = model.fit(scaled_train_X, train_y, callbacks=[callback])"
   ]
  },
  {
   "cell_type": "code",
   "execution_count": 21,
   "metadata": {},
   "outputs": [],
   "source": [
    "test_auprc = pd.Series(callback.test_AUPRC, name=\"test_AUPRC\")\n",
    "train_auprc = pd.Series(callback.train_AUPRC, name=\"train_AUPRC\")\n",
    "pd.DataFrame([test_auprc, train_auprc]).to_csv(\"data/test_train_history_model_dropout_scaling_adam_mb_gen_100.csv\")"
   ]
  },
  {
   "cell_type": "code",
   "execution_count": 7,
   "metadata": {},
   "outputs": [],
   "source": [
    "import matplotlib.pyplot as plt\n",
    "from sklearn.metrics import roc_curve\n",
    "def plot_AUROC_AUPRC(y_true, probas_pred, c):\n",
    "    p,r,_= precision_recall_curve(y_true=y_true, probas_pred=probas_pred)\n",
    "    fig, (ax,ax2) = plt.subplots(1,2,figsize=(11,6))\n",
    "    ax.grid()\n",
    "    \n",
    "    ax.set_xlabel(\"Precision\")\n",
    "    ax.set_ylabel(\"Recall\")\n",
    "    ax.fill_between(r,p, alpha=0.1,color=c)\n",
    "    ax.plot(r,p,color=c)\n",
    "    auc_text =\"AUPRC: {:.3f}\".format(auc(x=r,y=p))\n",
    "    ax.text(x=0.25, y=0.47, s=auc_text, fontsize=20)\n",
    "    \n",
    "    fpr,tpr,_ = roc_curve(y_true=y_true, y_score=probas_pred)\n",
    "    ax2.set_xlabel(\"False positive rate\")\n",
    "    ax2.set_ylabel(\"True positive rate\")\n",
    "    ax2.fill_between(fpr,tpr,color=c, alpha=0.1)\n",
    "    ax2.grid()\n",
    "    ax2.plot(fpr,tpr, color=c)\n",
    "    auc_text =\"AUROC: {:.3f}\".format(auc(x=fpr,y=tpr))\n",
    "    ax2.text(x=0.25, y=0.47, s=auc_text, fontsize=20)\n",
    "    return fig, (ax,ax2)"
   ]
  },
  {
   "cell_type": "code",
   "execution_count": 8,
   "metadata": {},
   "outputs": [
    {
     "name": "stdout",
     "output_type": "stream",
     "text": [
      "981388/981388 [==============================] - 67s 68us/step\n"
     ]
    }
   ],
   "source": [
    "probas_train = model.predict_proba(scaled_train_X)"
   ]
  },
  {
   "cell_type": "code",
   "execution_count": 9,
   "metadata": {},
   "outputs": [
    {
     "data": {
      "image/png": "[encoded data removed]",
      "text/plain": [
       "<Figure size 792x432 with 2 Axes>"
      ]
     },
     "metadata": {
      "needs_background": "light"
     },
     "output_type": "display_data"
    }
   ],
   "source": [
    "_, (p1, p2) = plot_AUROC_AUPRC(train_y, probas_train[:,1], c= \"orange\")"
   ]
  },
  {
   "cell_type": "code",
   "execution_count": 10,
   "metadata": {},
   "outputs": [
    {
     "name": "stdout",
     "output_type": "stream",
     "text": [
      "19018/19018 [==============================] - 2s 88us/step\n"
     ]
    }
   ],
   "source": [
    "probas_test = model.predict_proba(scaled_test_X)"
   ]
  },
  {
   "cell_type": "code",
   "execution_count": 11,
   "metadata": {},
   "outputs": [
    {
     "data": {
      "image/png": "[encoded data removed]",
      "text/plain": [
       "<Figure size 792x432 with 2 Axes>"
      ]
     },
     "metadata": {
      "needs_background": "light"
     },
     "output_type": "display_data"
    }
   ],
   "source": [
    "_, (p3, p4) = plot_AUROC_AUPRC(test_y, probas_test[:,1], c=\"dodgerblue\")"
   ]
  },
  {
   "cell_type": "code",
   "execution_count": 12,
   "metadata": {},
   "outputs": [],
   "source": [
    "def get_moving_average(data, window_width=8):\n",
    "    window_width = 8\n",
    "    padded_data = np.insert(data,0,[0]*window_width)\n",
    "    cumsum = np.cumsum(padded_data) \n",
    "    moving_avg_data = (cumsum[window_width:] - cumsum[:-window_width]) / window_width\n",
    "    return moving_avg_data"
   ]
  },
  {
   "cell_type": "code",
   "execution_count": 28,
   "metadata": {},
   "outputs": [
    {
     "data": {
      "text/html": [
       "<div>\n",
       "<style scoped>\n",
       "    .dataframe tbody tr th:only-of-type {\n",
       "        vertical-align: middle;\n",
       "    }\n",
       "\n",
       "    .dataframe tbody tr th {\n",
       "        vertical-align: top;\n",
       "    }\n",
       "\n",
       "    .dataframe thead th {\n",
       "        text-align: right;\n",
       "    }\n",
       "</style>\n",
       "<table border=\"1\" class=\"dataframe\">\n",
       "  <thead>\n",
       "    <tr style=\"text-align: right;\">\n",
       "      <th></th>\n",
       "      <th>test_AUPRC</th>\n",
       "      <th>train_AUPRC</th>\n",
       "    </tr>\n",
       "  </thead>\n",
       "  <tbody>\n",
       "    <tr>\n",
       "      <th>0</th>\n",
       "      <td>0.563474</td>\n",
       "      <td>0.259246</td>\n",
       "    </tr>\n",
       "    <tr>\n",
       "      <th>1</th>\n",
       "      <td>0.708344</td>\n",
       "      <td>0.406095</td>\n",
       "    </tr>\n",
       "    <tr>\n",
       "      <th>2</th>\n",
       "      <td>0.733675</td>\n",
       "      <td>0.555598</td>\n",
       "    </tr>\n",
       "    <tr>\n",
       "      <th>3</th>\n",
       "      <td>0.755929</td>\n",
       "      <td>0.660433</td>\n",
       "    </tr>\n",
       "    <tr>\n",
       "      <th>4</th>\n",
       "      <td>0.726167</td>\n",
       "      <td>0.705172</td>\n",
       "    </tr>\n",
       "  </tbody>\n",
       "</table>\n",
       "</div>"
      ],
      "text/plain": [
       "  test_AUPRC train_AUPRC\n",
       "0   0.563474    0.259246\n",
       "1   0.708344    0.406095\n",
       "2   0.733675    0.555598\n",
       "3   0.755929    0.660433\n",
       "4   0.726167    0.705172"
      ]
     },
     "execution_count": 28,
     "metadata": {},
     "output_type": "execute_result"
    }
   ],
   "source": [
    "df = pd.read_csv(\"data/test_train_history_model_dropout_scaling_adam_mb_gen_100.csv\")\n",
    "df = df.T.drop(\"Unnamed: 0\", axis=0)\n",
    "df = df.rename({0:\"test_AUPRC\", 1:\"train_AUPRC\"}, axis=1)\n",
    "df.head()"
   ]
  },
  {
   "cell_type": "code",
   "execution_count": 34,
   "metadata": {},
   "outputs": [
    {
     "data": {
      "image/png": "[encoded data removed]",
      "text/plain": [
       "<Figure size 1008x432 with 1 Axes>"
      ]
     },
     "metadata": {
      "needs_background": "light"
     },
     "output_type": "display_data"
    }
   ],
   "source": [
    "fig, (ax) = plt.subplots(1,1,figsize=(14,6))\n",
    "\n",
    "data = get_moving_average(df.test_AUPRC.values)\n",
    "ax.plot(data, label=\"test AUPRC\")\n",
    "\n",
    "data = get_moving_average(df.train_AUPRC.values)\n",
    "ax.plot(data, label=\"train AUPRC\", linestyle=\"-.\")\n",
    "\n",
    "ax.grid()\n",
    "ax.set_xticks(np.linspace(0,100,11))\n",
    "ax.set_yticks(np.linspace(0,1,11))\n",
    "ax.set_xlabel(\"Epochs\")\n",
    "ax.set_ylabel(\"AUPRC\")\n",
    "ax.legend(loc=4)\n",
    "plt.show()"
   ]
  },
  {
   "cell_type": "code",
   "execution_count": null,
   "metadata": {},
   "outputs": [],
   "source": []
  }
 ],
 "metadata": {
  "kernelspec": {
   "display_name": "Python 3",
   "language": "python",
   "name": "python3"
  },
  "language_info": {
   "codemirror_mode": {
    "name": "ipython",
    "version": 3
   },
   "file_extension": ".py",
   "mimetype": "text/x-python",
   "name": "python",
   "nbconvert_exporter": "python",
   "pygments_lexer": "ipython3",
   "version": "3.6.6"
  }
 },
 "nbformat": 4,
 "nbformat_minor": 2
}
