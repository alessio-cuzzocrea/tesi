{
 "cells": [
  {
   "cell_type": "code",
   "execution_count": 1,
   "metadata": {},
   "outputs": [
    {
     "name": "stderr",
     "output_type": "stream",
     "text": [
      "Using TensorFlow backend.\n"
     ]
    }
   ],
   "source": [
    "import numpy as np\n",
    "import tensorflow as tf\n",
    "import random as rn\n",
    "\n",
    "# The below is necessary in Python 3.2.3 onwards to\n",
    "# have reproducible behavior for certain hash-based operations.\n",
    "# See these references for further details:\n",
    "# https://docs.python.org/3.4/using/cmdline.html#envvar-PYTHONHASHSEED\n",
    "# https://github.com/keras-team/keras/issues/2280#issuecomment-306959926\n",
    "my_seed = 2024\n",
    "import os\n",
    "os.environ['PYTHONHASHSEED'] = '0'\n",
    "\n",
    "# The below is necessary for starting Numpy generated random numbers\n",
    "# in a well-defined initial state.\n",
    "\n",
    "np.random.seed(my_seed)\n",
    "\n",
    "# The below is necessary for starting core Python generated random numbers\n",
    "# in a well-defined state.\n",
    "\n",
    "rn.seed(my_seed)\n",
    "\n",
    "# Force TensorFlow to use single thread. (to force it set the threads to 1)\n",
    "# Multiple threads are a potential source of\n",
    "# non-reproducible results.\n",
    "# For further details, see: https://stackoverflow.com/questions/42022950/which-seeds-have-to-be-set-where-to-realize-100-reproducibility-of-training-res\n",
    "\n",
    "session_conf = tf.ConfigProto(intra_op_parallelism_threads=0, inter_op_parallelism_threads=0)\n",
    "\n",
    "from keras import backend as K\n",
    "\n",
    "# The below tf.set_random_seed() will make random number generation\n",
    "# in the TensorFlow backend have a well-defined initial state.\n",
    "# For further details, see: https://www.tensorflow.org/api_docs/python/tf/set_random_seed\n",
    "\n",
    "tf.set_random_seed(my_seed)\n",
    "\n",
    "sess = tf.Session(graph=tf.get_default_graph(), config=session_conf)\n",
    "K.set_session(sess)\n",
    "\n",
    "rn.seed(my_seed)\n",
    "#--- all other imports\n",
    "import pandas as pd\n",
    "from keras.models import Sequential\n",
    "from keras.layers import Dense, Dropout\n",
    "import keras.backend\n",
    "from keras.wrappers.scikit_learn import KerasClassifier\n",
    "from sklearn.model_selection import GridSearchCV\n",
    "from keras.optimizers import SGD, Adam\n",
    "from numpy.random import seed\n",
    "from sklearn.model_selection import cross_val_score\n",
    "from sklearn.model_selection import StratifiedKFold\n",
    "from sklearn.metrics import f1_score\n",
    "from sklearn.metrics import roc_auc_score\n",
    "from sklearn.metrics import make_scorer\n",
    "from sklearn.metrics import auc\n",
    "from sklearn.metrics import precision_recall_curve\n",
    "from sklearn.externals import joblib\n",
    "from sklearn.model_selection import cross_validate\n",
    "from sklearn.metrics import average_precision_score\n",
    "from sklearn.pipeline import Pipeline\n",
    "from sklearn.preprocessing import StandardScaler\n",
    "import copy\n",
    "from bioinformatics_helpers.utils import get_mendelian_dataset\n",
    "from bioinformatics_helpers.utils import hingesig_tf\n",
    "from bioinformatics_helpers.utils import GetAUPRCCallback"
   ]
  },
  {
   "cell_type": "code",
   "execution_count": 2,
   "metadata": {},
   "outputs": [],
   "source": [
    "feature_per_example = 26\n",
    "batch_size = 5000"
   ]
  },
  {
   "cell_type": "code",
   "execution_count": 3,
   "metadata": {},
   "outputs": [],
   "source": [
    "def create_model(architecture=(100,), dropout_rate=0.2):\n",
    "    model = Sequential()\n",
    "    weights_initializer = keras.initializers.glorot_normal(seed=my_seed)\n",
    "    bias_init = keras.initializers.RandomNormal(mean=0.1, stddev=0.05, seed=my_seed)\n",
    "    input_dim = feature_per_example\n",
    "    for units in architecture:\n",
    "        model.add(\n",
    "            Dense(\n",
    "                units,\n",
    "                input_dim = input_dim,\n",
    "                kernel_initializer = weights_initializer,\n",
    "                bias_initializer = bias_init,\n",
    "                activation=\"relu\"\n",
    "            )\n",
    "        )\n",
    "        input_dim=None # for the next layer keras infers its dimensions\n",
    "        model.add(\n",
    "            Dropout(rate=dropout_rate, seed=my_seed)\n",
    "        )\n",
    "        \n",
    "    model.add(\n",
    "        Dense(\n",
    "            1,\n",
    "            kernel_initializer=weights_initializer,\n",
    "            bias_initializer=keras.initializers.zeros(),\n",
    "            activation='sigmoid'\n",
    "    ))\n",
    "    optimizer = Adam()\n",
    "    model.compile(loss=hingesig_tf, optimizer=optimizer)\n",
    "    return model"
   ]
  },
  {
   "cell_type": "code",
   "execution_count": 4,
   "metadata": {},
   "outputs": [
    {
     "name": "stdout",
     "output_type": "stream",
     "text": [
      "_________________________________________________________________\n",
      "Layer (type)                 Output Shape              Param #   \n",
      "=================================================================\n",
      "dense_1 (Dense)              (None, 100)               2700      \n",
      "_________________________________________________________________\n",
      "dropout_1 (Dropout)          (None, 100)               0         \n",
      "_________________________________________________________________\n",
      "dense_2 (Dense)              (None, 1)                 101       \n",
      "=================================================================\n",
      "Total params: 2,801\n",
      "Trainable params: 2,801\n",
      "Non-trainable params: 0\n",
      "_________________________________________________________________\n"
     ]
    }
   ],
   "source": [
    "create_model().summary()"
   ]
  },
  {
   "cell_type": "code",
   "execution_count": 5,
   "metadata": {},
   "outputs": [],
   "source": [
    "train_X, train_y, test_X, test_y = get_mendelian_dataset()\n",
    "model = KerasClassifier(build_fn=create_model, verbose=1, shuffle=True, batch_size=batch_size, epochs=150)\n",
    "scaler = StandardScaler()\n",
    "scaler.fit(train_X)\n",
    "scaled_train_X = scaler.transform(train_X)\n",
    "scaled_test_X = scaler.transform(test_X)\n",
    "callback = GetAUPRCCallback(test_X=scaled_test_X, test_y=test_y, train_X=scaled_train_X, train_y=train_y)"
   ]
  },
  {
   "cell_type": "code",
   "execution_count": 6,
   "metadata": {},
   "outputs": [
    {
     "name": "stdout",
     "output_type": "stream",
     "text": [
      "Epoch 1/150\n",
      "981388/981388 [==============================] - 13s 14us/step - loss: 0.0414\n",
      "Epoch 2/150\n",
      "981388/981388 [==============================] - 12s 13us/step - loss: 0.0029\n",
      "Epoch 3/150\n",
      "981388/981388 [==============================] - 12s 13us/step - loss: 0.0023\n",
      "Epoch 4/150\n",
      "981388/981388 [==============================] - 13s 13us/step - loss: 0.0020\n",
      "Epoch 5/150\n",
      "981388/981388 [==============================] - 12s 13us/step - loss: 0.0018\n",
      "Epoch 6/150\n",
      "981388/981388 [==============================] - 12s 13us/step - loss: 0.0016\n",
      "Epoch 7/150\n",
      "981388/981388 [==============================] - 13s 13us/step - loss: 0.0015\n",
      "Epoch 8/150\n",
      "981388/981388 [==============================] - 12s 12us/step - loss: 0.0013\n",
      "Epoch 9/150\n",
      "981388/981388 [==============================] - 12s 13us/step - loss: 0.0013\n",
      "Epoch 10/150\n",
      "981388/981388 [==============================] - 12s 12us/step - loss: 0.0011\n",
      "Epoch 11/150\n",
      "981388/981388 [==============================] - 12s 13us/step - loss: 0.0011\n",
      "Epoch 12/150\n",
      "981388/981388 [==============================] - 12s 12us/step - loss: 0.0010\n",
      "Epoch 13/150\n",
      "981388/981388 [==============================] - 12s 13us/step - loss: 0.0010\n",
      "Epoch 14/150\n",
      "981388/981388 [==============================] - 12s 13us/step - loss: 9.4788e-04\n",
      "Epoch 15/150\n",
      "981388/981388 [==============================] - 12s 13us/step - loss: 9.1453e-04\n",
      "Epoch 16/150\n",
      "981388/981388 [==============================] - 12s 12us/step - loss: 9.0503e-04\n",
      "Epoch 17/150\n",
      "981388/981388 [==============================] - 13s 13us/step - loss: 8.7401e-04\n",
      "Epoch 18/150\n",
      "981388/981388 [==============================] - 12s 13us/step - loss: 8.4896e-04\n",
      "Epoch 19/150\n",
      "981388/981388 [==============================] - 12s 13us/step - loss: 8.5819e-04\n",
      "Epoch 20/150\n",
      "981388/981388 [==============================] - 12s 12us/step - loss: 8.2394e-04\n",
      "Epoch 21/150\n",
      "981388/981388 [==============================] - 12s 13us/step - loss: 7.9160e-04\n",
      "Epoch 22/150\n",
      "981388/981388 [==============================] - 12s 13us/step - loss: 7.7481e-04\n",
      "Epoch 23/150\n",
      "981388/981388 [==============================] - 12s 13us/step - loss: 7.7926e-04 0s - loss: \n",
      "Epoch 24/150\n",
      "981388/981388 [==============================] - 12s 13us/step - loss: 7.5557e-04\n",
      "Epoch 25/150\n",
      "981388/981388 [==============================] - 12s 12us/step - loss: 7.3518e-04\n",
      "Epoch 26/150\n",
      "981388/981388 [==============================] - 12s 12us/step - loss: 7.4688e-04\n",
      "Epoch 27/150\n",
      "981388/981388 [==============================] - 13s 13us/step - loss: 7.0456e-04\n",
      "Epoch 28/150\n",
      "981388/981388 [==============================] - 13s 14us/step - loss: 7.1530e-04\n",
      "Epoch 29/150\n",
      "981388/981388 [==============================] - 12s 13us/step - loss: 6.9807e-04\n",
      "Epoch 30/150\n",
      "981388/981388 [==============================] - 13s 13us/step - loss: 6.5483e-04\n",
      "Epoch 31/150\n",
      "981388/981388 [==============================] - 12s 13us/step - loss: 6.5921e-04\n",
      "Epoch 32/150\n",
      "981388/981388 [==============================] - 12s 13us/step - loss: 6.3837e-04\n",
      "Epoch 33/150\n",
      "981388/981388 [==============================] - 12s 13us/step - loss: 6.5973e-04\n",
      "Epoch 34/150\n",
      "981388/981388 [==============================] - 12s 13us/step - loss: 6.3061e-04\n",
      "Epoch 35/150\n",
      "981388/981388 [==============================] - 13s 13us/step - loss: 6.3248e-04\n",
      "Epoch 36/150\n",
      "981388/981388 [==============================] - 13s 14us/step - loss: 6.0975e-04\n",
      "Epoch 37/150\n",
      "981388/981388 [==============================] - 12s 13us/step - loss: 5.8585e-04\n",
      "Epoch 38/150\n",
      "981388/981388 [==============================] - 12s 13us/step - loss: 5.8938e-04\n",
      "Epoch 39/150\n",
      "981388/981388 [==============================] - 12s 12us/step - loss: 5.8107e-04\n",
      "Epoch 40/150\n",
      "981388/981388 [==============================] - 11s 11us/step - loss: 5.5333e-04\n",
      "Epoch 41/150\n",
      "981388/981388 [==============================] - 9s 9us/step - loss: 5.7412e-04\n",
      "Epoch 42/150\n",
      "981388/981388 [==============================] - 12s 12us/step - loss: 5.6519e-04\n",
      "Epoch 43/150\n",
      "981388/981388 [==============================] - 12s 12us/step - loss: 5.4273e-04\n",
      "Epoch 44/150\n",
      "981388/981388 [==============================] - 12s 13us/step - loss: 5.2704e-04\n",
      "Epoch 45/150\n",
      "981388/981388 [==============================] - 12s 13us/step - loss: 5.3114e-04\n",
      "Epoch 46/150\n",
      "981388/981388 [==============================] - 12s 12us/step - loss: 5.3474e-04\n",
      "Epoch 47/150\n",
      "981388/981388 [==============================] - 12s 13us/step - loss: 5.1513e-04\n",
      "Epoch 48/150\n",
      "981388/981388 [==============================] - 12s 12us/step - loss: 5.1935e-04\n",
      "Epoch 49/150\n",
      "981388/981388 [==============================] - 12s 12us/step - loss: 5.0294e-04\n",
      "Epoch 50/150\n",
      "981388/981388 [==============================] - 12s 13us/step - loss: 5.1477e-04\n",
      "Epoch 51/150\n",
      "981388/981388 [==============================] - 12s 13us/step - loss: 5.0197e-04\n",
      "Epoch 52/150\n",
      "981388/981388 [==============================] - 12s 13us/step - loss: 5.0835e-04\n",
      "Epoch 53/150\n",
      "981388/981388 [==============================] - 12s 12us/step - loss: 4.9349e-04\n",
      "Epoch 54/150\n",
      "981388/981388 [==============================] - 12s 13us/step - loss: 4.7523e-04\n",
      "Epoch 55/150\n",
      "981388/981388 [==============================] - 12s 13us/step - loss: 4.6549e-04\n",
      "Epoch 56/150\n",
      "981388/981388 [==============================] - 12s 12us/step - loss: 4.6806e-04\n",
      "Epoch 57/150\n",
      "981388/981388 [==============================] - 12s 12us/step - loss: 4.8000e-04\n",
      "Epoch 58/150\n",
      "981388/981388 [==============================] - 12s 13us/step - loss: 4.6610e-04\n",
      "Epoch 59/150\n",
      "981388/981388 [==============================] - 12s 13us/step - loss: 4.6031e-04\n",
      "Epoch 60/150\n",
      "981388/981388 [==============================] - 12s 13us/step - loss: 4.3899e-04\n",
      "Epoch 61/150\n",
      "981388/981388 [==============================] - 12s 12us/step - loss: 4.4681e-04\n",
      "Epoch 62/150\n",
      "981388/981388 [==============================] - 12s 12us/step - loss: 4.4054e-04\n",
      "Epoch 63/150\n",
      "981388/981388 [==============================] - 12s 13us/step - loss: 4.2579e-04\n",
      "Epoch 64/150\n",
      "981388/981388 [==============================] - 12s 13us/step - loss: 4.3248e-04\n",
      "Epoch 65/150\n",
      "981388/981388 [==============================] - 12s 13us/step - loss: 4.3473e-04\n",
      "Epoch 66/150\n",
      "981388/981388 [==============================] - 12s 12us/step - loss: 4.2871e-04\n",
      "Epoch 67/150\n",
      "981388/981388 [==============================] - 12s 13us/step - loss: 4.2874e-04\n",
      "Epoch 68/150\n",
      "981388/981388 [==============================] - 12s 13us/step - loss: 4.1655e-04\n",
      "Epoch 69/150\n",
      "981388/981388 [==============================] - 12s 12us/step - loss: 4.0778e-04\n",
      "Epoch 70/150\n",
      "981388/981388 [==============================] - 12s 13us/step - loss: 4.1105e-04\n",
      "Epoch 71/150\n",
      "981388/981388 [==============================] - 12s 13us/step - loss: 3.8455e-04\n",
      "Epoch 72/150\n",
      "981388/981388 [==============================] - 12s 13us/step - loss: 4.1168e-04\n",
      "Epoch 73/150\n",
      "981388/981388 [==============================] - 12s 12us/step - loss: 3.8959e-04\n",
      "Epoch 74/150\n",
      "981388/981388 [==============================] - 12s 13us/step - loss: 3.9456e-04\n",
      "Epoch 75/150\n",
      "981388/981388 [==============================] - 12s 13us/step - loss: 4.1268e-04\n",
      "Epoch 76/150\n",
      "981388/981388 [==============================] - 12s 13us/step - loss: 3.9716e-04\n",
      "Epoch 77/150\n",
      "981388/981388 [==============================] - 12s 12us/step - loss: 3.6996e-04\n",
      "Epoch 78/150\n",
      "981388/981388 [==============================] - 12s 12us/step - loss: 3.7561e-04\n",
      "Epoch 79/150\n",
      "981388/981388 [==============================] - 12s 13us/step - loss: 3.7301e-04\n",
      "Epoch 80/150\n",
      "981388/981388 [==============================] - 12s 13us/step - loss: 3.8788e-04\n",
      "Epoch 81/150\n",
      "981388/981388 [==============================] - 12s 13us/step - loss: 3.8081e-04\n",
      "Epoch 82/150\n",
      "981388/981388 [==============================] - 13s 13us/step - loss: 3.7693e-04\n",
      "Epoch 83/150\n",
      "981388/981388 [==============================] - 12s 13us/step - loss: 3.7267e-04\n",
      "Epoch 84/150\n",
      "981388/981388 [==============================] - 12s 12us/step - loss: 3.5371e-04\n",
      "Epoch 85/150\n",
      "981388/981388 [==============================] - 12s 13us/step - loss: 3.7033e-04\n",
      "Epoch 86/150\n",
      "981388/981388 [==============================] - 12s 13us/step - loss: 3.6713e-04\n",
      "Epoch 87/150\n",
      "981388/981388 [==============================] - 12s 12us/step - loss: 3.6453e-04\n",
      "Epoch 88/150\n",
      "981388/981388 [==============================] - 12s 12us/step - loss: 3.8036e-04\n",
      "Epoch 89/150\n",
      "981388/981388 [==============================] - 12s 12us/step - loss: 3.5475e-04\n",
      "Epoch 90/150\n",
      "981388/981388 [==============================] - 12s 12us/step - loss: 3.4993e-04\n",
      "Epoch 91/150\n",
      "981388/981388 [==============================] - 12s 13us/step - loss: 3.5213e-04\n",
      "Epoch 92/150\n",
      "981388/981388 [==============================] - 12s 12us/step - loss: 3.5133e-04\n",
      "Epoch 93/150\n",
      "981388/981388 [==============================] - 12s 12us/step - loss: 3.7088e-04\n",
      "Epoch 94/150\n",
      "981388/981388 [==============================] - 12s 12us/step - loss: 3.5870e-04\n",
      "Epoch 95/150\n",
      "981388/981388 [==============================] - 12s 12us/step - loss: 3.5629e-04\n",
      "Epoch 96/150\n",
      "981388/981388 [==============================] - 10s 11us/step - loss: 3.4804e-04\n",
      "Epoch 97/150\n",
      "981388/981388 [==============================] - 10s 10us/step - loss: 3.2181e-04\n",
      "Epoch 98/150\n",
      "981388/981388 [==============================] - 7s 7us/step - loss: 3.3487e-04\n",
      "Epoch 99/150\n",
      "981388/981388 [==============================] - 6s 6us/step - loss: 3.3241e-04\n",
      "Epoch 100/150\n",
      "981388/981388 [==============================] - 6s 6us/step - loss: 3.3938e-04\n",
      "Epoch 101/150\n",
      "981388/981388 [==============================] - 6s 7us/step - loss: 3.1349e-04\n",
      "Epoch 102/150\n",
      "981388/981388 [==============================] - 9s 9us/step - loss: 3.2794e-04\n",
      "Epoch 103/150\n",
      "981388/981388 [==============================] - 7s 7us/step - loss: 3.4103e-04\n",
      "Epoch 104/150\n",
      "981388/981388 [==============================] - 8s 8us/step - loss: 3.2661e-04\n",
      "Epoch 105/150\n",
      "981388/981388 [==============================] - 12s 12us/step - loss: 3.5140e-04\n",
      "Epoch 106/150\n",
      "981388/981388 [==============================] - 12s 12us/step - loss: 3.3952e-04\n",
      "Epoch 107/150\n",
      "981388/981388 [==============================] - 12s 12us/step - loss: 3.3168e-04\n",
      "Epoch 108/150\n",
      "981388/981388 [==============================] - 12s 12us/step - loss: 3.0470e-04\n",
      "Epoch 109/150\n",
      "981388/981388 [==============================] - 12s 12us/step - loss: 3.2170e-04\n",
      "Epoch 110/150\n",
      "981388/981388 [==============================] - 12s 13us/step - loss: 3.1605e-04\n",
      "Epoch 111/150\n",
      "981388/981388 [==============================] - 10s 10us/step - loss: 3.2224e-04\n",
      "Epoch 112/150\n",
      "981388/981388 [==============================] - 7s 7us/step - loss: 3.3034e-04\n",
      "Epoch 113/150\n",
      "981388/981388 [==============================] - 7s 7us/step - loss: 3.1559e-04\n",
      "Epoch 114/150\n",
      "981388/981388 [==============================] - 7s 7us/step - loss: 3.1201e-04\n",
      "Epoch 115/150\n",
      "981388/981388 [==============================] - 7s 7us/step - loss: 3.2084e-04\n",
      "Epoch 116/150\n",
      "981388/981388 [==============================] - 6s 7us/step - loss: 3.0084e-04\n",
      "Epoch 117/150\n",
      "981388/981388 [==============================] - 6s 7us/step - loss: 3.1517e-04\n",
      "Epoch 118/150\n",
      "981388/981388 [==============================] - 7s 7us/step - loss: 3.2887e-04\n",
      "Epoch 119/150\n",
      "981388/981388 [==============================] - 8s 9us/step - loss: 3.1141e-04\n",
      "Epoch 120/150\n",
      "981388/981388 [==============================] - 7s 7us/step - loss: 3.2856e-04\n",
      "Epoch 121/150\n",
      "981388/981388 [==============================] - 7s 7us/step - loss: 3.1004e-04\n",
      "Epoch 122/150\n",
      "981388/981388 [==============================] - 7s 7us/step - loss: 3.0830e-04\n",
      "Epoch 123/150\n",
      "981388/981388 [==============================] - 7s 7us/step - loss: 3.0297e-04\n",
      "Epoch 124/150\n",
      "981388/981388 [==============================] - 7s 7us/step - loss: 3.0946e-04\n",
      "Epoch 125/150\n",
      "981388/981388 [==============================] - 7s 7us/step - loss: 2.9713e-04\n",
      "Epoch 126/150\n",
      "981388/981388 [==============================] - 7s 7us/step - loss: 3.1571e-04\n",
      "Epoch 127/150\n",
      "981388/981388 [==============================] - 7s 7us/step - loss: 3.0975e-04\n",
      "Epoch 128/150\n",
      "981388/981388 [==============================] - 7s 7us/step - loss: 2.9288e-04\n",
      "Epoch 129/150\n",
      "981388/981388 [==============================] - 7s 7us/step - loss: 3.2152e-04\n",
      "Epoch 130/150\n",
      "981388/981388 [==============================] - 7s 7us/step - loss: 2.9004e-04\n",
      "Epoch 131/150\n",
      "981388/981388 [==============================] - 7s 7us/step - loss: 3.0125e-04\n",
      "Epoch 132/150\n",
      "981388/981388 [==============================] - 7s 7us/step - loss: 3.0970e-04\n",
      "Epoch 133/150\n",
      "981388/981388 [==============================] - 7s 7us/step - loss: 2.8872e-04\n",
      "Epoch 134/150\n",
      "981388/981388 [==============================] - 6s 7us/step - loss: 2.8959e-04\n",
      "Epoch 135/150\n",
      "981388/981388 [==============================] - 7s 7us/step - loss: 2.9391e-04\n",
      "Epoch 136/150\n",
      "981388/981388 [==============================] - 7s 7us/step - loss: 2.8776e-04\n",
      "Epoch 137/150\n",
      "981388/981388 [==============================] - 7s 7us/step - loss: 2.8817e-04\n",
      "Epoch 138/150\n",
      "981388/981388 [==============================] - 7s 7us/step - loss: 2.9393e-04\n",
      "Epoch 139/150\n",
      "981388/981388 [==============================] - 6s 7us/step - loss: 3.0397e-04\n",
      "Epoch 140/150\n",
      "981388/981388 [==============================] - 7s 7us/step - loss: 3.0074e-04\n",
      "Epoch 141/150\n",
      "981388/981388 [==============================] - 6s 7us/step - loss: 2.9178e-04\n",
      "Epoch 142/150\n",
      "981388/981388 [==============================] - 7s 7us/step - loss: 2.8649e-04\n",
      "Epoch 143/150\n",
      "981388/981388 [==============================] - 7s 7us/step - loss: 2.9122e-04\n",
      "Epoch 144/150\n",
      "981388/981388 [==============================] - 7s 7us/step - loss: 2.8440e-04\n",
      "Epoch 145/150\n",
      "981388/981388 [==============================] - 7s 7us/step - loss: 3.1134e-04\n",
      "Epoch 146/150\n",
      "981388/981388 [==============================] - 7s 7us/step - loss: 2.7651e-04\n",
      "Epoch 147/150\n",
      "981388/981388 [==============================] - 7s 7us/step - loss: 2.9213e-04\n",
      "Epoch 148/150\n",
      "981388/981388 [==============================] - 7s 7us/step - loss: 2.8769e-04\n",
      "Epoch 149/150\n",
      "981388/981388 [==============================] - 6s 7us/step - loss: 2.7384e-04\n",
      "Epoch 150/150\n",
      "981388/981388 [==============================] - 7s 7us/step - loss: 3.0028e-04\n"
     ]
    }
   ],
   "source": [
    "history = model.fit(scaled_train_X, train_y, callbacks=[callback])"
   ]
  },
  {
   "cell_type": "code",
   "execution_count": 32,
   "metadata": {},
   "outputs": [],
   "source": [
    "test_auprc = pd.Series(callback.test_AUPRC, name=\"test_AUPRC\")\n",
    "train_auprc = pd.Series(callback.train_AUPRC, name=\"train_AUPRC\")\n",
    "pd.DataFrame([test_auprc, train_auprc]).to_csv(\"data/test_train_history_model_dropout_scaling_adam_100.csv\")"
   ]
  },
  {
   "cell_type": "code",
   "execution_count": 9,
   "metadata": {},
   "outputs": [],
   "source": [
    "import matplotlib.pyplot as plt\n",
    "from sklearn.metrics import roc_curve\n",
    "def plot_AUROC_AUPRC(y_true, probas_pred, c):\n",
    "    p,r,_= precision_recall_curve(y_true=y_true, probas_pred=probas_pred)\n",
    "    fig, (ax,ax2) = plt.subplots(1,2,figsize=(11,6))\n",
    "    ax.grid()\n",
    "    \n",
    "    ax.set_xlabel(\"Precision\")\n",
    "    ax.set_ylabel(\"Recall\")\n",
    "    ax.fill_between(r,p, alpha=0.1,color=c)\n",
    "    ax.plot(r,p,color=c)\n",
    "    auc_text =\"AUPRC: {:.3f}\".format(auc(x=r,y=p))\n",
    "    ax.text(x=0.25, y=0.47, s=auc_text, fontsize=20)\n",
    "    \n",
    "    fpr,tpr,_ = roc_curve(y_true=y_true, y_score=probas_pred)\n",
    "    ax2.set_xlabel(\"False positive rate\")\n",
    "    ax2.set_ylabel(\"True positive rate\")\n",
    "    ax2.fill_between(fpr,tpr,color=c, alpha=0.1)\n",
    "    ax2.grid()\n",
    "    ax2.plot(fpr,tpr, color=c)\n",
    "    auc_text =\"AUROC: {:.3f}\".format(auc(x=fpr,y=tpr))\n",
    "    ax2.text(x=0.25, y=0.47, s=auc_text, fontsize=20)\n",
    "    return fig, (ax,ax2)"
   ]
  },
  {
   "cell_type": "code",
   "execution_count": 10,
   "metadata": {},
   "outputs": [
    {
     "name": "stdout",
     "output_type": "stream",
     "text": [
      "981388/981388 [==============================] - 3s 3us/step\n"
     ]
    }
   ],
   "source": [
    "probas_train = model.predict_proba(scaled_train_X)"
   ]
  },
  {
   "cell_type": "code",
   "execution_count": 13,
   "metadata": {},
   "outputs": [
    {
     "data": {
      "image/png": "[encoded data removed]",
      "text/plain": [
       "<Figure size 792x432 with 2 Axes>"
      ]
     },
     "metadata": {
      "needs_background": "light"
     },
     "output_type": "display_data"
    }
   ],
   "source": [
    "_, (p1, p2) = plot_AUROC_AUPRC(train_y, probas_train[:,1],c=\"orange\")"
   ]
  },
  {
   "cell_type": "code",
   "execution_count": 14,
   "metadata": {},
   "outputs": [
    {
     "name": "stdout",
     "output_type": "stream",
     "text": [
      "19018/19018 [==============================] - 0s 2us/step\n"
     ]
    }
   ],
   "source": [
    "probas_test = model.predict_proba(scaled_test_X)"
   ]
  },
  {
   "cell_type": "code",
   "execution_count": 17,
   "metadata": {},
   "outputs": [
    {
     "data": {
      "image/png": "[encoded data removed]",
      "text/plain": [
       "<Figure size 792x432 with 2 Axes>"
      ]
     },
     "metadata": {
      "needs_background": "light"
     },
     "output_type": "display_data"
    }
   ],
   "source": [
    "_, (p3, p4) = plot_AUROC_AUPRC(test_y, probas_test[:,1],c=\"dodgerblue\")"
   ]
  },
  {
   "cell_type": "code",
   "execution_count": 21,
   "metadata": {},
   "outputs": [],
   "source": [
    "def get_moving_average(data, window_width=8):\n",
    "    window_width = 8\n",
    "    padded_data = np.insert(data,0,[0]*window_width)\n",
    "    cumsum = np.cumsum(padded_data) \n",
    "    moving_avg_data = (cumsum[window_width:] - cumsum[:-window_width]) / window_width\n",
    "    return moving_avg_data"
   ]
  },
  {
   "cell_type": "code",
   "execution_count": 45,
   "metadata": {},
   "outputs": [
    {
     "data": {
      "text/plain": [
       "300"
      ]
     },
     "execution_count": 45,
     "metadata": {},
     "output_type": "execute_result"
    }
   ],
   "source": [
    "len(callback.test_AUPRC)"
   ]
  },
  {
   "cell_type": "code",
   "execution_count": 48,
   "metadata": {},
   "outputs": [
    {
     "data": {
      "image/png": "[encoded data removed]",
      "text/plain": [
       "<Figure size 1008x432 with 1 Axes>"
      ]
     },
     "metadata": {
      "needs_background": "light"
     },
     "output_type": "display_data"
    }
   ],
   "source": [
    "fig, (ax) = plt.subplots(1,1,figsize=(14,6))\n",
    "\n",
    "data = get_moving_average(callback.test_AU_PRC)\n",
    "ax.plot(data, label=\"test AUPRC\")\n",
    "\n",
    "data = get_moving_average(callback.train_AU_PRC)\n",
    "ax.plot(data, label=\"train AUPRC\", linestyle=\"-.\")\n",
    "\n",
    "ax.grid()\n",
    "ax.set_xticks(np.linspace(0,150,16))\n",
    "ax.set_yticks(np.linspace(0,1,11))\n",
    "ax.set_xlabel(\"Epochs\")\n",
    "ax.set_ylabel(\"AUPRC\")\n",
    "ax.legend(loc=4)\n",
    "plt.show()"
   ]
  },
  {
   "cell_type": "code",
   "execution_count": null,
   "metadata": {},
   "outputs": [],
   "source": []
  }
 ],
 "metadata": {
  "kernelspec": {
   "display_name": "Python 3",
   "language": "python",
   "name": "python3"
  },
  "language_info": {
   "codemirror_mode": {
    "name": "ipython",
    "version": 3
   },
   "file_extension": ".py",
   "mimetype": "text/x-python",
   "name": "python",
   "nbconvert_exporter": "python",
   "pygments_lexer": "ipython3",
   "version": "3.6.6"
  }
 },
 "nbformat": 4,
 "nbformat_minor": 2
}
