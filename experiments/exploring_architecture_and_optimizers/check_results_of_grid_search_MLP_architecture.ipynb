{
 "cells": [
  {
   "cell_type": "code",
   "execution_count": 5,
   "metadata": {},
   "outputs": [],
   "source": [
    "import pandas as pd\n",
    "import matplotlib.pyplot as plt\n",
    "import numpy as np\n",
    "import seaborn as sns\n",
    "import os\n",
    "data_dir = \"data/\"\n",
    "data_report_dir = \"data_for_report/\""
   ]
  },
  {
   "cell_type": "code",
   "execution_count": 8,
   "metadata": {},
   "outputs": [
    {
     "data": {
      "text/html": [
       "<div>\n",
       "<style scoped>\n",
       "    .dataframe tbody tr th:only-of-type {\n",
       "        vertical-align: middle;\n",
       "    }\n",
       "\n",
       "    .dataframe tbody tr th {\n",
       "        vertical-align: top;\n",
       "    }\n",
       "\n",
       "    .dataframe thead th {\n",
       "        text-align: right;\n",
       "    }\n",
       "</style>\n",
       "<table border=\"1\" class=\"dataframe\">\n",
       "  <thead>\n",
       "    <tr style=\"text-align: right;\">\n",
       "      <th></th>\n",
       "      <th>param_model__architecture</th>\n",
       "      <th>mean_test_AU_PRC</th>\n",
       "      <th>std_test_AU_PRC</th>\n",
       "      <th>mean_test_AVG_PREC</th>\n",
       "      <th>mean_test_AU_ROC</th>\n",
       "      <th>mean_train_AU_PRC</th>\n",
       "      <th>mean_fit_time</th>\n",
       "      <th>mean_score_time</th>\n",
       "    </tr>\n",
       "  </thead>\n",
       "  <tbody>\n",
       "    <tr>\n",
       "      <th>5</th>\n",
       "      <td>(80,)</td>\n",
       "      <td>0.753468</td>\n",
       "      <td>0.026946</td>\n",
       "      <td>0.753859</td>\n",
       "      <td>0.954456</td>\n",
       "      <td>0.909494</td>\n",
       "      <td>165.379618</td>\n",
       "      <td>0.819181</td>\n",
       "    </tr>\n",
       "    <tr>\n",
       "      <th>15</th>\n",
       "      <td>(10, 2)</td>\n",
       "      <td>0.741257</td>\n",
       "      <td>0.033139</td>\n",
       "      <td>0.739269</td>\n",
       "      <td>0.959571</td>\n",
       "      <td>0.793273</td>\n",
       "      <td>153.716931</td>\n",
       "      <td>1.631137</td>\n",
       "    </tr>\n",
       "    <tr>\n",
       "      <th>6</th>\n",
       "      <td>(100,)</td>\n",
       "      <td>0.734919</td>\n",
       "      <td>0.031942</td>\n",
       "      <td>0.735495</td>\n",
       "      <td>0.958947</td>\n",
       "      <td>0.928050</td>\n",
       "      <td>152.383166</td>\n",
       "      <td>0.903873</td>\n",
       "    </tr>\n",
       "    <tr>\n",
       "      <th>4</th>\n",
       "      <td>(40,)</td>\n",
       "      <td>0.732089</td>\n",
       "      <td>0.025100</td>\n",
       "      <td>0.733276</td>\n",
       "      <td>0.963999</td>\n",
       "      <td>0.883024</td>\n",
       "      <td>128.515639</td>\n",
       "      <td>0.758626</td>\n",
       "    </tr>\n",
       "    <tr>\n",
       "      <th>3</th>\n",
       "      <td>(20,)</td>\n",
       "      <td>0.731237</td>\n",
       "      <td>0.026695</td>\n",
       "      <td>0.731901</td>\n",
       "      <td>0.958051</td>\n",
       "      <td>0.842199</td>\n",
       "      <td>125.279025</td>\n",
       "      <td>0.737758</td>\n",
       "    </tr>\n",
       "  </tbody>\n",
       "</table>\n",
       "</div>"
      ],
      "text/plain": [
       "   param_model__architecture  mean_test_AU_PRC  std_test_AU_PRC  \\\n",
       "5                      (80,)          0.753468         0.026946   \n",
       "15                   (10, 2)          0.741257         0.033139   \n",
       "6                     (100,)          0.734919         0.031942   \n",
       "4                      (40,)          0.732089         0.025100   \n",
       "3                      (20,)          0.731237         0.026695   \n",
       "\n",
       "    mean_test_AVG_PREC  mean_test_AU_ROC  mean_train_AU_PRC  mean_fit_time  \\\n",
       "5             0.753859          0.954456           0.909494     165.379618   \n",
       "15            0.739269          0.959571           0.793273     153.716931   \n",
       "6             0.735495          0.958947           0.928050     152.383166   \n",
       "4             0.733276          0.963999           0.883024     128.515639   \n",
       "3             0.731901          0.958051           0.842199     125.279025   \n",
       "\n",
       "    mean_score_time  \n",
       "5          0.819181  \n",
       "15         1.631137  \n",
       "6          0.903873  \n",
       "4          0.758626  \n",
       "3          0.737758  "
      ]
     },
     "execution_count": 8,
     "metadata": {},
     "output_type": "execute_result"
    }
   ],
   "source": [
    "cv_results = pd.read_csv(data_dir + \"cv_results_scaler_adam.csv\")\n",
    "cv_results.sort_values(\"mean_test_AVG_PREC\", inplace=True, ascending=False)\n",
    "cv_results[[\"param_model__architecture\",\"mean_test_AU_PRC\",\"std_test_AU_PRC\", \"mean_test_AVG_PREC\",\"mean_test_AU_ROC\",\"mean_train_AU_PRC\", \"mean_fit_time\", \"mean_score_time\"]].head()"
   ]
  },
  {
   "cell_type": "code",
   "execution_count": 9,
   "metadata": {},
   "outputs": [
    {
     "data": {
      "text/html": [
       "<div>\n",
       "<style scoped>\n",
       "    .dataframe tbody tr th:only-of-type {\n",
       "        vertical-align: middle;\n",
       "    }\n",
       "\n",
       "    .dataframe tbody tr th {\n",
       "        vertical-align: top;\n",
       "    }\n",
       "\n",
       "    .dataframe thead th {\n",
       "        text-align: right;\n",
       "    }\n",
       "</style>\n",
       "<table border=\"1\" class=\"dataframe\">\n",
       "  <thead>\n",
       "    <tr style=\"text-align: right;\">\n",
       "      <th></th>\n",
       "      <th>param_model__architecture</th>\n",
       "      <th>mean_test_AU_PRC</th>\n",
       "      <th>std_test_AU_PRC</th>\n",
       "      <th>mean_test_AVG_PREC</th>\n",
       "      <th>mean_test_AU_ROC</th>\n",
       "      <th>mean_train_AU_PRC</th>\n",
       "      <th>mean_fit_time</th>\n",
       "    </tr>\n",
       "  </thead>\n",
       "  <tbody>\n",
       "    <tr>\n",
       "      <th>3</th>\n",
       "      <td>(20,)</td>\n",
       "      <td>0.567692</td>\n",
       "      <td>0.100835</td>\n",
       "      <td>0.570202</td>\n",
       "      <td>0.887840</td>\n",
       "      <td>0.644213</td>\n",
       "      <td>124.580594</td>\n",
       "    </tr>\n",
       "    <tr>\n",
       "      <th>10</th>\n",
       "      <td>(40, 20)</td>\n",
       "      <td>0.564363</td>\n",
       "      <td>0.092236</td>\n",
       "      <td>0.565074</td>\n",
       "      <td>0.835313</td>\n",
       "      <td>0.617323</td>\n",
       "      <td>159.095275</td>\n",
       "    </tr>\n",
       "    <tr>\n",
       "      <th>1</th>\n",
       "      <td>(5,)</td>\n",
       "      <td>0.537658</td>\n",
       "      <td>0.102550</td>\n",
       "      <td>0.538973</td>\n",
       "      <td>0.924664</td>\n",
       "      <td>0.561384</td>\n",
       "      <td>109.071511</td>\n",
       "    </tr>\n",
       "    <tr>\n",
       "      <th>12</th>\n",
       "      <td>(20, 10)</td>\n",
       "      <td>0.564445</td>\n",
       "      <td>0.139300</td>\n",
       "      <td>0.528811</td>\n",
       "      <td>0.891480</td>\n",
       "      <td>0.607387</td>\n",
       "      <td>138.251849</td>\n",
       "    </tr>\n",
       "    <tr>\n",
       "      <th>4</th>\n",
       "      <td>(40,)</td>\n",
       "      <td>0.473233</td>\n",
       "      <td>0.082825</td>\n",
       "      <td>0.473801</td>\n",
       "      <td>0.749828</td>\n",
       "      <td>0.541435</td>\n",
       "      <td>127.864411</td>\n",
       "    </tr>\n",
       "  </tbody>\n",
       "</table>\n",
       "</div>"
      ],
      "text/plain": [
       "   param_model__architecture  mean_test_AU_PRC  std_test_AU_PRC  \\\n",
       "3                      (20,)          0.567692         0.100835   \n",
       "10                  (40, 20)          0.564363         0.092236   \n",
       "1                       (5,)          0.537658         0.102550   \n",
       "12                  (20, 10)          0.564445         0.139300   \n",
       "4                      (40,)          0.473233         0.082825   \n",
       "\n",
       "    mean_test_AVG_PREC  mean_test_AU_ROC  mean_train_AU_PRC  mean_fit_time  \n",
       "3             0.570202          0.887840           0.644213     124.580594  \n",
       "10            0.565074          0.835313           0.617323     159.095275  \n",
       "1             0.538973          0.924664           0.561384     109.071511  \n",
       "12            0.528811          0.891480           0.607387     138.251849  \n",
       "4             0.473801          0.749828           0.541435     127.864411  "
      ]
     },
     "execution_count": 9,
     "metadata": {},
     "output_type": "execute_result"
    }
   ],
   "source": [
    "cv_results = pd.read_csv(data_dir + \"cv_results_no_scaler_adam.csv\")\n",
    "cv_results.sort_values(\"mean_test_AVG_PREC\", inplace=True, ascending=False)\n",
    "cv_results[[\"param_model__architecture\", \"mean_test_AU_PRC\",\"std_test_AU_PRC\", \"mean_test_AVG_PREC\",\"mean_test_AU_ROC\",\"mean_train_AU_PRC\", \"mean_fit_time\"]].head(5)"
   ]
  },
  {
   "cell_type": "code",
   "execution_count": 10,
   "metadata": {},
   "outputs": [
    {
     "data": {
      "text/html": [
       "<div>\n",
       "<style scoped>\n",
       "    .dataframe tbody tr th:only-of-type {\n",
       "        vertical-align: middle;\n",
       "    }\n",
       "\n",
       "    .dataframe tbody tr th {\n",
       "        vertical-align: top;\n",
       "    }\n",
       "\n",
       "    .dataframe thead th {\n",
       "        text-align: right;\n",
       "    }\n",
       "</style>\n",
       "<table border=\"1\" class=\"dataframe\">\n",
       "  <thead>\n",
       "    <tr style=\"text-align: right;\">\n",
       "      <th></th>\n",
       "      <th>param_model__architecture</th>\n",
       "      <th>mean_test_AU_PRC</th>\n",
       "      <th>std_test_AU_PRC</th>\n",
       "      <th>mean_test_AVG_PREC</th>\n",
       "      <th>mean_test_AU_ROC</th>\n",
       "      <th>mean_train_AU_PRC</th>\n",
       "      <th>mean_fit_time</th>\n",
       "    </tr>\n",
       "  </thead>\n",
       "  <tbody>\n",
       "    <tr>\n",
       "      <th>8</th>\n",
       "      <td>(100, 40)</td>\n",
       "      <td>0.332332</td>\n",
       "      <td>0.035241</td>\n",
       "      <td>0.334943</td>\n",
       "      <td>0.795089</td>\n",
       "      <td>0.376445</td>\n",
       "      <td>207.142758</td>\n",
       "    </tr>\n",
       "    <tr>\n",
       "      <th>16</th>\n",
       "      <td>(100, 80, 40)</td>\n",
       "      <td>0.278504</td>\n",
       "      <td>0.050111</td>\n",
       "      <td>0.280651</td>\n",
       "      <td>0.800509</td>\n",
       "      <td>0.327828</td>\n",
       "      <td>311.970602</td>\n",
       "    </tr>\n",
       "    <tr>\n",
       "      <th>9</th>\n",
       "      <td>(100, 10)</td>\n",
       "      <td>0.274153</td>\n",
       "      <td>0.059448</td>\n",
       "      <td>0.276881</td>\n",
       "      <td>0.761895</td>\n",
       "      <td>0.310972</td>\n",
       "      <td>176.363929</td>\n",
       "    </tr>\n",
       "    <tr>\n",
       "      <th>18</th>\n",
       "      <td>(80, 40, 20)</td>\n",
       "      <td>0.256018</td>\n",
       "      <td>0.028491</td>\n",
       "      <td>0.259435</td>\n",
       "      <td>0.837887</td>\n",
       "      <td>0.321529</td>\n",
       "      <td>251.531624</td>\n",
       "    </tr>\n",
       "    <tr>\n",
       "      <th>25</th>\n",
       "      <td>(80, 60, 20, 10)</td>\n",
       "      <td>0.244174</td>\n",
       "      <td>0.054937</td>\n",
       "      <td>0.246977</td>\n",
       "      <td>0.796731</td>\n",
       "      <td>0.287568</td>\n",
       "      <td>303.930815</td>\n",
       "    </tr>\n",
       "  </tbody>\n",
       "</table>\n",
       "</div>"
      ],
      "text/plain": [
       "   param_model__architecture  mean_test_AU_PRC  std_test_AU_PRC  \\\n",
       "8                  (100, 40)          0.332332         0.035241   \n",
       "16             (100, 80, 40)          0.278504         0.050111   \n",
       "9                  (100, 10)          0.274153         0.059448   \n",
       "18              (80, 40, 20)          0.256018         0.028491   \n",
       "25          (80, 60, 20, 10)          0.244174         0.054937   \n",
       "\n",
       "    mean_test_AVG_PREC  mean_test_AU_ROC  mean_train_AU_PRC  mean_fit_time  \n",
       "8             0.334943          0.795089           0.376445     207.142758  \n",
       "16            0.280651          0.800509           0.327828     311.970602  \n",
       "9             0.276881          0.761895           0.310972     176.363929  \n",
       "18            0.259435          0.837887           0.321529     251.531624  \n",
       "25            0.246977          0.796731           0.287568     303.930815  "
      ]
     },
     "execution_count": 10,
     "metadata": {},
     "output_type": "execute_result"
    }
   ],
   "source": [
    "cv_results = pd.read_csv(data_dir + \"cv_results_scaler_SGD.csv\")\n",
    "cv_results.sort_values(\"mean_test_AVG_PREC\", inplace=True, ascending=False)\n",
    "cv_results[[\"param_model__architecture\", \"mean_test_AU_PRC\",\"std_test_AU_PRC\", \"mean_test_AVG_PREC\",\"mean_test_AU_ROC\",\"mean_train_AU_PRC\", \"mean_fit_time\"]].head()"
   ]
  },
  {
   "cell_type": "code",
   "execution_count": 11,
   "metadata": {},
   "outputs": [
    {
     "data": {
      "text/html": [
       "<div>\n",
       "<style scoped>\n",
       "    .dataframe tbody tr th:only-of-type {\n",
       "        vertical-align: middle;\n",
       "    }\n",
       "\n",
       "    .dataframe tbody tr th {\n",
       "        vertical-align: top;\n",
       "    }\n",
       "\n",
       "    .dataframe thead th {\n",
       "        text-align: right;\n",
       "    }\n",
       "</style>\n",
       "<table border=\"1\" class=\"dataframe\">\n",
       "  <thead>\n",
       "    <tr style=\"text-align: right;\">\n",
       "      <th></th>\n",
       "      <th>param_model__architecture</th>\n",
       "      <th>mean_test_AU_PRC</th>\n",
       "      <th>std_test_AU_PRC</th>\n",
       "      <th>mean_test_AVG_PREC</th>\n",
       "      <th>mean_test_AU_ROC</th>\n",
       "      <th>mean_train_AU_PRC</th>\n",
       "      <th>mean_fit_time</th>\n",
       "    </tr>\n",
       "  </thead>\n",
       "  <tbody>\n",
       "    <tr>\n",
       "      <th>16</th>\n",
       "      <td>(100, 80, 40)</td>\n",
       "      <td>0.035783</td>\n",
       "      <td>0.038767</td>\n",
       "      <td>0.038324</td>\n",
       "      <td>0.605829</td>\n",
       "      <td>0.029532</td>\n",
       "      <td>310.413515</td>\n",
       "    </tr>\n",
       "    <tr>\n",
       "      <th>13</th>\n",
       "      <td>(20, 5)</td>\n",
       "      <td>0.038377</td>\n",
       "      <td>0.040274</td>\n",
       "      <td>0.019551</td>\n",
       "      <td>0.639889</td>\n",
       "      <td>0.011127</td>\n",
       "      <td>136.245752</td>\n",
       "    </tr>\n",
       "    <tr>\n",
       "      <th>2</th>\n",
       "      <td>(10,)</td>\n",
       "      <td>0.014077</td>\n",
       "      <td>0.010557</td>\n",
       "      <td>0.014509</td>\n",
       "      <td>0.869851</td>\n",
       "      <td>0.010621</td>\n",
       "      <td>124.896446</td>\n",
       "    </tr>\n",
       "    <tr>\n",
       "      <th>24</th>\n",
       "      <td>(100, 50, 25, 10)</td>\n",
       "      <td>0.013370</td>\n",
       "      <td>0.024249</td>\n",
       "      <td>0.013578</td>\n",
       "      <td>0.570834</td>\n",
       "      <td>0.019196</td>\n",
       "      <td>286.234335</td>\n",
       "    </tr>\n",
       "    <tr>\n",
       "      <th>21</th>\n",
       "      <td>(20, 10, 5)</td>\n",
       "      <td>0.008019</td>\n",
       "      <td>0.009634</td>\n",
       "      <td>0.011698</td>\n",
       "      <td>0.535337</td>\n",
       "      <td>0.012053</td>\n",
       "      <td>166.503101</td>\n",
       "    </tr>\n",
       "  </tbody>\n",
       "</table>\n",
       "</div>"
      ],
      "text/plain": [
       "   param_model__architecture  mean_test_AU_PRC  std_test_AU_PRC  \\\n",
       "16             (100, 80, 40)          0.035783         0.038767   \n",
       "13                   (20, 5)          0.038377         0.040274   \n",
       "2                      (10,)          0.014077         0.010557   \n",
       "24         (100, 50, 25, 10)          0.013370         0.024249   \n",
       "21               (20, 10, 5)          0.008019         0.009634   \n",
       "\n",
       "    mean_test_AVG_PREC  mean_test_AU_ROC  mean_train_AU_PRC  mean_fit_time  \n",
       "16            0.038324          0.605829           0.029532     310.413515  \n",
       "13            0.019551          0.639889           0.011127     136.245752  \n",
       "2             0.014509          0.869851           0.010621     124.896446  \n",
       "24            0.013578          0.570834           0.019196     286.234335  \n",
       "21            0.011698          0.535337           0.012053     166.503101  "
      ]
     },
     "execution_count": 11,
     "metadata": {},
     "output_type": "execute_result"
    }
   ],
   "source": [
    "cv_results = pd.read_csv(data_dir + \"cv_results_no_scaler_SGD.csv\")\n",
    "cv_results.sort_values(\"mean_test_AVG_PREC\", inplace=True, ascending=False)\n",
    "cv_results[[\"param_model__architecture\", \"mean_test_AU_PRC\",\"std_test_AU_PRC\", \"mean_test_AVG_PREC\",\"mean_test_AU_ROC\",\"mean_train_AU_PRC\", \"mean_fit_time\"]].head()"
   ]
  },
  {
   "cell_type": "markdown",
   "metadata": {},
   "source": [
    "# Clean data for report"
   ]
  },
  {
   "cell_type": "code",
   "execution_count": 4,
   "metadata": {},
   "outputs": [],
   "source": [
    "relevant_columns = [\"param_model__architecture\", \n",
    "                    \"mean_test_AU_PRC\", \"std_test_AU_PRC\",\n",
    "                    \"mean_test_AVG_PREC\",\"std_test_AVG_PREC\", \"mean_test_AU_ROC\",\"std_test_AU_ROC\",\n",
    "                    \"mean_train_AU_PRC\",\"std_train_AU_PRC\", \"mean_train_AVG_PREC\", \n",
    "                    \"mean_train_AU_ROC\",\"mean_fit_time\"]\n",
    "for file in os.listdir(data_dir):\n",
    "    if file.startswith(\"cv\") and \"for_report\" not in file:\n",
    "        df = pd.read_csv(data_dir + file)\n",
    "        df = df[relevant_columns]\n",
    "        df = df.sort_values(\"mean_test_AVG_PREC\", ascending=False)\n",
    "        df = df.round(3)\n",
    "        df = df.rename(lambda x: x.replace(\"_\", \"\"), axis=1)\n",
    "        df = df.rename(lambda x: x.replace(\"parammodelarchitecture\", \"architecture\"), axis=1)\n",
    "        df.architecture = df.architecture.apply(lambda x: x.replace(\"(\", \"\"))\n",
    "        df.architecture = df.architecture.apply(lambda x: x.replace(\")\", \"\"))\n",
    "        df.architecture = df.architecture.apply(lambda x: x.replace(\",\", \"\") if x[-1] == \",\" else x)\n",
    "        df.architecture = df.architecture.apply(lambda x: x.replace(\", \", \"-\"))\n",
    "        df.to_csv(data_report_dir + file.split(\".\")[0] + \"_for_report.csv\", index=False)"
   ]
  },
  {
   "cell_type": "markdown",
   "metadata": {},
   "source": [
    "# Make some relevant plots"
   ]
  },
  {
   "cell_type": "code",
   "execution_count": 18,
   "metadata": {},
   "outputs": [],
   "source": [
    "def get_optimizer_name(string):\n",
    "    if \"SGD\" in string:\n",
    "        return \"SGD\"\n",
    "    else: \n",
    "        return \"Adam\"\n",
    "    \n",
    "def get_scaling_active(string):\n",
    "    if \"no_scaler\" in string:\n",
    "        return \"no scaling\"\n",
    "    else:\n",
    "        return \"scaling\""
   ]
  },
  {
   "cell_type": "code",
   "execution_count": 19,
   "metadata": {},
   "outputs": [],
   "source": [
    "df_list = []\n",
    "\n",
    "optimizer_column_name = \"optimizer\"\n",
    "scaling_column_name = \"scaling\"\n",
    "relevant_columns = [\"architecture\", \"mean_test_AVG_PREC\", \"mean_train_AVG_PREC\", \"std_test_AVG_PREC\",\"std_test_AU_PRC\", optimizer_column_name, scaling_column_name]\n",
    "for file in os.listdir(data_dir):\n",
    "    if file.startswith(\"cv\") and \"for_report\" not in file and \"gpu\" not in file:\n",
    "        df = pd.read_csv(data_dir + file)\n",
    "        df = df.assign(**{optimizer_column_name: get_optimizer_name(file)})\n",
    "        df = df.assign(**{scaling_column_name: get_scaling_active(file)})\n",
    "        df = df.rename(lambda x: x.replace(\"param_model__architecture\", \"architecture\"), axis=1)\n",
    "\n",
    "        df_list.append(df[relevant_columns])\n",
    "super_df = pd.concat(df_list)\n",
    "super_df = super_df.sort_values(\"mean_test_AVG_PREC\", ascending=False)"
   ]
  },
  {
   "cell_type": "code",
   "execution_count": 20,
   "metadata": {},
   "outputs": [],
   "source": [
    "top_5_adam_scaling = pd.read_csv(data_dir + \"cv_results_scaler_adam.csv\")\n",
    "top_5_adam_scaling.sort_values(\"mean_test_AVG_PREC\", inplace=True, ascending=False)\n",
    "top_5_adam_scaling = top_5_adam_scaling.head().param_model__architecture"
   ]
  },
  {
   "cell_type": "code",
   "execution_count": 21,
   "metadata": {},
   "outputs": [
    {
     "data": {
      "image/png": "[encoded data removed]",
      "text/plain": [
       "<Figure size 936x576 with 1 Axes>"
      ]
     },
     "metadata": {
      "needs_background": "light"
     },
     "output_type": "display_data"
    }
   ],
   "source": [
    "ax = super_df.pivot_table(index=\"architecture\", columns=[\"optimizer\", \"scaling\"], values=\"mean_test_AVG_PREC\").round(3).loc[top_5_adam_scaling].plot(kind=\"bar\",figsize=(13,8))\n",
    "ax.yaxis.grid(linestyle=\"dashed\", linewidth=0.5)\n",
    "ax.yaxis.set_ticks(np.linspace(0,0.80,9))\n",
    "ax.legend(bbox_to_anchor=(1.05, 0.8), bbox_transform=plt.gcf().transFigure)\n",
    "ax.set_ylabel(\"AUPRC\")\n",
    "plt.show()"
   ]
  },
  {
   "cell_type": "code",
   "execution_count": 22,
   "metadata": {},
   "outputs": [],
   "source": [
    "super_df = super_df.reset_index()"
   ]
  },
  {
   "cell_type": "code",
   "execution_count": 23,
   "metadata": {},
   "outputs": [],
   "source": [
    "indexes = super_df.groupby([\"optimizer\", \"scaling\"]).agg({\"mean_test_AVG_PREC\":[\"max\", \"idxmax\"]}).mean_test_AVG_PREC[\"idxmax\"].values"
   ]
  },
  {
   "cell_type": "code",
   "execution_count": 24,
   "metadata": {},
   "outputs": [
    {
     "data": {
      "text/html": [
       "<div>\n",
       "<style scoped>\n",
       "    .dataframe tbody tr th:only-of-type {\n",
       "        vertical-align: middle;\n",
       "    }\n",
       "\n",
       "    .dataframe tbody tr th {\n",
       "        vertical-align: top;\n",
       "    }\n",
       "\n",
       "    .dataframe thead th {\n",
       "        text-align: right;\n",
       "    }\n",
       "</style>\n",
       "<table border=\"1\" class=\"dataframe\">\n",
       "  <thead>\n",
       "    <tr style=\"text-align: right;\">\n",
       "      <th></th>\n",
       "      <th>index</th>\n",
       "      <th>architecture</th>\n",
       "      <th>mean_test_AVG_PREC</th>\n",
       "      <th>mean_train_AVG_PREC</th>\n",
       "      <th>std_test_AVG_PREC</th>\n",
       "      <th>std_test_AU_PRC</th>\n",
       "      <th>optimizer</th>\n",
       "      <th>scaling</th>\n",
       "    </tr>\n",
       "  </thead>\n",
       "  <tbody>\n",
       "    <tr>\n",
       "      <th>26</th>\n",
       "      <td>3</td>\n",
       "      <td>(20,)</td>\n",
       "      <td>0.570202</td>\n",
       "      <td>0.644732</td>\n",
       "      <td>0.100839</td>\n",
       "      <td>0.100835</td>\n",
       "      <td>Adam</td>\n",
       "      <td>no scaling</td>\n",
       "    </tr>\n",
       "    <tr>\n",
       "      <th>0</th>\n",
       "      <td>5</td>\n",
       "      <td>(80,)</td>\n",
       "      <td>0.753859</td>\n",
       "      <td>0.909518</td>\n",
       "      <td>0.026856</td>\n",
       "      <td>0.026946</td>\n",
       "      <td>Adam</td>\n",
       "      <td>scaling</td>\n",
       "    </tr>\n",
       "    <tr>\n",
       "      <th>64</th>\n",
       "      <td>16</td>\n",
       "      <td>(100, 80, 40)</td>\n",
       "      <td>0.038324</td>\n",
       "      <td>0.030258</td>\n",
       "      <td>0.040989</td>\n",
       "      <td>0.038767</td>\n",
       "      <td>SGD</td>\n",
       "      <td>no scaling</td>\n",
       "    </tr>\n",
       "    <tr>\n",
       "      <th>36</th>\n",
       "      <td>8</td>\n",
       "      <td>(100, 40)</td>\n",
       "      <td>0.334943</td>\n",
       "      <td>0.377106</td>\n",
       "      <td>0.035116</td>\n",
       "      <td>0.035241</td>\n",
       "      <td>SGD</td>\n",
       "      <td>scaling</td>\n",
       "    </tr>\n",
       "  </tbody>\n",
       "</table>\n",
       "</div>"
      ],
      "text/plain": [
       "    index   architecture  mean_test_AVG_PREC  mean_train_AVG_PREC  \\\n",
       "26      3          (20,)            0.570202             0.644732   \n",
       "0       5          (80,)            0.753859             0.909518   \n",
       "64     16  (100, 80, 40)            0.038324             0.030258   \n",
       "36      8      (100, 40)            0.334943             0.377106   \n",
       "\n",
       "    std_test_AVG_PREC  std_test_AU_PRC optimizer     scaling  \n",
       "26           0.100839         0.100835      Adam  no scaling  \n",
       "0            0.026856         0.026946      Adam     scaling  \n",
       "64           0.040989         0.038767       SGD  no scaling  \n",
       "36           0.035116         0.035241       SGD     scaling  "
      ]
     },
     "execution_count": 24,
     "metadata": {},
     "output_type": "execute_result"
    }
   ],
   "source": [
    "super_df.iloc[indexes]"
   ]
  },
  {
   "cell_type": "code",
   "execution_count": 25,
   "metadata": {},
   "outputs": [
    {
     "data": {
      "text/plain": [
       "Text(0, 0.5, 'mean test AUPRC')"
      ]
     },
     "execution_count": 25,
     "metadata": {},
     "output_type": "execute_result"
    },
    {
     "data": {
      "image/png": "[encoded data removed]",
      "text/plain": [
       "<Figure size 720x360 with 1 Axes>"
      ]
     },
     "metadata": {
      "needs_background": "light"
     },
     "output_type": "display_data"
    }
   ],
   "source": [
    "ax = super_df.iloc[indexes].sort_values(\"mean_test_AVG_PREC\", ascending=False).rename({\"mean_test_AVG_PREC\": \"mean test AUPRC\"}, axis=1).plot.bar(\"architecture\", \"mean test AUPRC\", figsize=(10,5), legend=False)\n",
    "ax.get_children()[0].set_label(\"Adam, scaling\")\n",
    "ax.get_children()[1].set_label(\"Adam, no scaling\")\n",
    "ax.get_children()[2].set_label(\"SGD, scaling\")\n",
    "ax.get_children()[3].set_label(\"SGD, no scaling\")\n",
    "\n",
    "handles, labels = ax.get_legend_handles_labels()\n",
    "ax.legend(handles[:4], labels[:4])\n",
    "ax.yaxis.grid(linestyle=\"dashed\", linewidth=0.5)\n",
    "ax.set_ylabel(\"mean test AUPRC\")"
   ]
  },
  {
   "cell_type": "code",
   "execution_count": 26,
   "metadata": {},
   "outputs": [
    {
     "data": {
      "image/png": "[encoded data removed]",
      "text/plain": [
       "<Figure size 936x576 with 1 Axes>"
      ]
     },
     "metadata": {
      "needs_background": "light"
     },
     "output_type": "display_data"
    }
   ],
   "source": [
    "ax = super_df.pivot_table(index=\"architecture\", columns=[\"optimizer\", \"scaling\"], values=\"mean_test_AVG_PREC\").boxplot(figsize=(13,8), grid=False)\n",
    "ax.yaxis.grid(linestyle=\"dashed\", linewidth=0.5)\n",
    "ax.yaxis.set_ticks(np.linspace(0,0.8,9))\n",
    "ax.set_ylabel(\"cross validated AUPRC results\")\n",
    "plt.show()"
   ]
  },
  {
   "cell_type": "code",
   "execution_count": 28,
   "metadata": {},
   "outputs": [
    {
     "data": {
      "image/png": "[encoded data removed]",
      "text/plain": [
       "<Figure size 936x576 with 1 Axes>"
      ]
     },
     "metadata": {
      "needs_background": "light"
     },
     "output_type": "display_data"
    }
   ],
   "source": [
    "ax = super_df.pivot_table(index=\"architecture\", columns=[\"optimizer\", \"scaling\"], values=\"mean_train_AVG_PREC\").boxplot(figsize=(13,8), grid=False)\n",
    "ax.yaxis.grid(linestyle=\"dashed\", linewidth=0.5)\n",
    "ax.yaxis.set_ticks(np.linspace(0,1,11))\n",
    "ax.set_ylabel(\"cross validated AUPRC train results\")\n",
    "plt.show()"
   ]
  },
  {
   "cell_type": "code",
   "execution_count": 37,
   "metadata": {},
   "outputs": [
    {
     "data": {
      "image/png": "[encoded data removed]",
      "text/plain": [
       "<Figure size 936x576 with 1 Axes>"
      ]
     },
     "metadata": {
      "needs_background": "light"
     },
     "output_type": "display_data"
    }
   ],
   "source": [
    "ax = super_df.pivot_table(index=\"architecture\", columns=[\"optimizer\", \"scaling\"], values=\"std_test_AVG_PREC\").boxplot(figsize=(13,8), grid=False)\n",
    "ax.yaxis.grid(linestyle=\"dashed\", linewidth=0.5)\n",
    "ax.yaxis.set_ticks(np.linspace(0,0.3,7))\n",
    "ax.set_ylabel(\"cross validated AUPRC train results\")\n",
    "plt.show()"
   ]
  },
  {
   "cell_type": "code",
   "execution_count": null,
   "metadata": {},
   "outputs": [],
   "source": []
  }
 ],
 "metadata": {
  "kernelspec": {
   "display_name": "Python 3",
   "language": "python",
   "name": "python3"
  },
  "language_info": {
   "codemirror_mode": {
    "name": "ipython",
    "version": 3
   },
   "file_extension": ".py",
   "mimetype": "text/x-python",
   "name": "python",
   "nbconvert_exporter": "python",
   "pygments_lexer": "ipython3",
   "version": "3.6.6"
  }
 },
 "nbformat": 4,
 "nbformat_minor": 2
}
