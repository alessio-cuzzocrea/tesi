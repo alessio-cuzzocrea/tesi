{
 "cells": [
  {
   "cell_type": "markdown",
   "metadata": {},
   "source": [
    "# Check su modello creato"
   ]
  },
  {
   "cell_type": "code",
   "execution_count": 1,
   "metadata": {},
   "outputs": [
    {
     "name": "stderr",
     "output_type": "stream",
     "text": [
      "/home/alessio/.local/lib/python3.6/site-packages/h5py/__init__.py:36: FutureWarning: Conversion of the second argument of issubdtype from `float` to `np.floating` is deprecated. In future, it will be treated as `np.float64 == np.dtype(float).type`.\n",
      "  from ._conv import register_converters as _register_converters\n",
      "Using Theano backend.\n"
     ]
    }
   ],
   "source": [
    "#Per prima cosa importiamo tutto ciò di cui abbiamo bisogno\n",
    "import numpy as np\n",
    "import pandas as pd\n",
    "from keras.models import Sequential\n",
    "from keras.layers import Dense\n",
    "import keras.backend\n",
    "from keras.wrappers.scikit_learn import KerasClassifier\n",
    "from sklearn.model_selection import GridSearchCV\n",
    "from keras.optimizers import SGD\n",
    "from numpy.random import seed\n",
    "from sklearn.model_selection import cross_val_score\n",
    "from sklearn.model_selection import StratifiedKFold\n",
    "from sklearn.metrics import f1_score\n",
    "from sklearn.metrics import roc_auc_score\n",
    "from sklearn.metrics import make_scorer\n",
    "from sklearn.metrics import auc\n",
    "from sklearn.metrics import precision_recall_curve\n",
    "from sklearn.externals import joblib\n",
    "from sklearn.model_selection import cross_validate\n",
    "from sklearn.metrics import average_precision_score\n",
    "import copy\n",
    "import matplotlib.pyplot as plt\n",
    "import theano.tensor as T\n",
    "import seaborn as sns\n",
    "from bioinformatics_helpers.utils import interpolated_precision_recall_curve as pr_curve"
   ]
  },
  {
   "cell_type": "code",
   "execution_count": 2,
   "metadata": {},
   "outputs": [],
   "source": [
    "base_data_folder = \"/home/alessio/dati/\"\n",
    "train_set_filename = base_data_folder + \"Mendelian.train.tsv\"\n",
    "test_set_filename = base_data_folder + \"Mendelian.test.tsv\"\n",
    "\n",
    "train_X = pd.read_csv(train_set_filename, sep='\\t').values\n",
    "test_X = pd.read_csv(test_set_filename, sep='\\t').values\n",
    "#creiamo le label, nel train set i primi 356 esempi sono positivi, nel test i primi 40 sono positivi\n",
    "n_positives = 356\n",
    "n_negatives = train_X.shape[0] - n_positives\n",
    "train_y = np.concatenate((\n",
    "    np.ones(n_positives, dtype=np.int32),\n",
    "    np.zeros(n_negatives, dtype=np.int32)\n",
    "))\n",
    "n_positives = 40\n",
    "n_negatives = test_X.shape[0] - n_positives\n",
    "test_y = np.concatenate((\n",
    "    np.ones(n_positives, dtype=np.int32),\n",
    "    np.zeros(n_negatives, dtype=np.int32)\n",
    "))\n",
    "feature_per_example=26\n",
    "batch_size = 500\n",
    "my_seed = 2024 #imposto un valore di seed da dare a tutti i generatori\n",
    "seed(my_seed) #seed numpy"
   ]
  },
  {
   "cell_type": "code",
   "execution_count": 3,
   "metadata": {},
   "outputs": [],
   "source": [
    "def hingesig(y_true, y_pred):\n",
    "    transform_y_true = T.switch(T.eq(y_true,0), -1, y_true)\n",
    "    clipped_y_pred = T.clip(y_pred, 1e-20, 0.9999999)\n",
    "    logit = (T.log2(clipped_y_pred) - T.log2(T.sub(1., clipped_y_pred)))\n",
    "    return T.mean(T.maximum(1. - transform_y_true * logit, 0.), axis=-1)\n",
    "\n",
    "def create_model(loss='binary_crossentropy', activation='tanh'):\n",
    "    model = Sequential()\n",
    "    initializer = keras.initializers.glorot_uniform(seed=my_seed)\n",
    "    model.add(Dense(\n",
    "            300, \n",
    "            input_dim=feature_per_example, \n",
    "            kernel_initializer=initializer,\n",
    "            activation=activation)\n",
    "             )\n",
    "    model.add(Dense(\n",
    "            1,\n",
    "            kernel_initializer=initializer,\n",
    "            activation='sigmoid'\n",
    "    ))\n",
    "    optimizer = SGD(lr=0.01, decay=0, momentum=0, nesterov=False)\n",
    "    model.compile(loss=loss, optimizer=optimizer)\n",
    "    return model"
   ]
  },
  {
   "cell_type": "code",
   "execution_count": 10,
   "metadata": {},
   "outputs": [
    {
     "name": "stdout",
     "output_type": "stream",
     "text": [
      "Epoch 1/10\n",
      "981388/981388 [==============================] - 36s 36us/step - loss: 0.0011\n",
      "Epoch 2/10\n",
      "981388/981388 [==============================] - 36s 36us/step - loss: 8.5841e-04\n",
      "Epoch 3/10\n",
      "981388/981388 [==============================] - 36s 36us/step - loss: 8.2480e-04\n",
      "Epoch 4/10\n",
      "981388/981388 [==============================] - 36s 37us/step - loss: 8.1529e-04\n",
      "Epoch 5/10\n",
      "981388/981388 [==============================] - 36s 37us/step - loss: 8.1042e-04\n",
      "Epoch 6/10\n",
      "981388/981388 [==============================] - 36s 37us/step - loss: 8.0395e-04\n",
      "Epoch 7/10\n",
      "981388/981388 [==============================] - 36s 37us/step - loss: 7.9659e-04\n",
      "Epoch 8/10\n",
      "981388/981388 [==============================] - 36s 37us/step - loss: 7.9038e-04\n",
      "Epoch 9/10\n",
      "981388/981388 [==============================] - 36s 37us/step - loss: 7.8296e-04\n",
      "Epoch 10/10\n",
      "981388/981388 [==============================] - 36s 37us/step - loss: 7.7881e-04\n",
      "19018/19018 [==============================] - 0s 19us/step\n"
     ]
    }
   ],
   "source": [
    "wrapped_model_hinge_sig = KerasClassifier(build_fn=create_model,\n",
    "                                         batch_size=500,\n",
    "                                         epochs=10, verbose=1,\n",
    "                                         shuffle=True,\n",
    "                                         activation=\"sigmoid\",\n",
    "                                         loss=hingesig)\n",
    "wrapped_model_hinge_sig.fit(x=train_X, y=train_y)\n",
    "wrapped_model_hinge_sig_probas = wrapped_model_hinge_sig.predict_proba(test_X)[:,1]"
   ]
  },
  {
   "cell_type": "code",
   "execution_count": 11,
   "metadata": {},
   "outputs": [
    {
     "name": "stdout",
     "output_type": "stream",
     "text": [
      "AUPRC:  0.008536906954062905\n",
      "AUROC:  0.7169248603646327\n",
      "Avg prec score:  0.012135834050843206\n",
      "first 40 predictions:\n",
      "[0.25715774 0.2562212  0.22700071 0.22929437 0.22929437 0.22685593\n",
      " 0.22525312 0.22683215 0.22683215 0.32650474 0.32690433 0.28818867\n",
      " 0.28025773 0.3574213  0.32443577 0.17689641 0.326829   0.32270852\n",
      " 0.24209352 0.24263157 0.24263157 0.24263157 0.24209385 0.24292581\n",
      " 0.2354962  0.2354962  0.2354962  0.23556444 0.23586811 0.23586811\n",
      " 0.23586811 0.23588149 0.23550032 0.23586811 0.23590288 0.23549736\n",
      " 0.23556158 0.2360832  0.23586307 0.23618399]\n"
     ]
    },
    {
     "data": {
      "image/png": "[encoded data removed]",
      "text/plain": [
       "<Figure size 432x288 with 2 Axes>"
      ]
     },
     "metadata": {},
     "output_type": "display_data"
    },
    {
     "data": {
      "text/plain": [
       "<Figure size 432x288 with 0 Axes>"
      ]
     },
     "metadata": {},
     "output_type": "display_data"
    }
   ],
   "source": [
    "p,r,t = precision_recall_curve(probas_pred=wrapped_model_hinge_sig_probas, y_true=test_y, pos_label=1)\n",
    "f, (ax1, ax2) = plt.subplots(2,sharex=False, sharey=False, gridspec_kw={\"hspace\":1})\n",
    "r1,p1 = pr_curve(y_prob=wrapped_model_hinge_sig_probas, y_true=test_y)\n",
    "fig_test = plt.figure()\n",
    "ax1.axis([0, 1, 0, 1])\n",
    "ax1.set_xlabel(\"Recall\")\n",
    "ax1.set_ylabel(\"Precision\")\n",
    "ax1.set_title(\"PR Curve\")\n",
    "\n",
    "ax1.plot(r1,p1)\n",
    "bins = np.linspace(0,1,10)\n",
    "ax2.hist(wrapped_model_hinge_sig_probas,bins,alpha=0.8)\n",
    "ax2.set_title('Hinge loss probs')\n",
    "print(\"AUPRC: \", auc(x=r,y=p))\n",
    "print(\"AUROC: \", roc_auc_score(y_score=wrapped_model_hinge_sig_probas, y_true=test_y))\n",
    "print(\"Avg prec score: \", average_precision_score(y_score=wrapped_model_hinge_sig_probas, y_true=test_y))\n",
    "print(\"first 40 predictions:\")\n",
    "print(wrapped_model_hinge_sig_probas[:40])\n",
    "plt.show()"
   ]
  },
  {
   "cell_type": "code",
   "execution_count": 13,
   "metadata": {},
   "outputs": [
    {
     "name": "stdout",
     "output_type": "stream",
     "text": [
      "positive class probas mean: 0.25, std: 0.04\n",
      "negative class probas mean: 0.23, std: 0.04\n"
     ]
    }
   ],
   "source": [
    "print(\"positive class probas mean: {:.2f}, std: {:.2f}\"\n",
    "      .format(\n",
    "          np.mean(wrapped_model_hinge_sig_probas[:40]),\n",
    "          np.std(wrapped_model_hinge_sig_probas[:40])\n",
    "      )\n",
    "     )\n",
    "\n",
    "print(\"negative class probas mean: {:.2f}, std: {:.2f}\"\n",
    "      .format(\n",
    "          np.mean(wrapped_model_hinge_sig_probas[40:]),\n",
    "          np.std(wrapped_model_hinge_sig_probas[40:])\n",
    "      )\n",
    "     )\n",
    "\n",
    "df_test_X = pd.read_csv(test_set_filename, sep='\\t')\n",
    "negative_class_test_X = df_test_X.iloc[40:]\n",
    "data =[best_model_probas[40:],best_model_probas[:40]]\n",
    "q1_q3 = np.percentile(best_model_probas[:40], [25,75])\n",
    "iqr = q1_q3[1] - q1_q3[0]\n",
    "bottom_value = q1_q3[0] - (1.5 * iqr)\n",
    "high_value = q1_q3[1] + (1.5 * iqr)\n",
    "#high outliers in negative class\n"
   ]
  },
  {
   "cell_type": "code",
   "execution_count": null,
   "metadata": {},
   "outputs": [],
   "source": []
  }
 ],
 "metadata": {
  "kernelspec": {
   "display_name": "Python 3",
   "language": "python",
   "name": "python3"
  },
  "language_info": {
   "codemirror_mode": {
    "name": "ipython",
    "version": 3
   },
   "file_extension": ".py",
   "mimetype": "text/x-python",
   "name": "python",
   "nbconvert_exporter": "python",
   "pygments_lexer": "ipython3",
   "version": "3.6.6"
  }
 },
 "nbformat": 4,
 "nbformat_minor": 2
}
