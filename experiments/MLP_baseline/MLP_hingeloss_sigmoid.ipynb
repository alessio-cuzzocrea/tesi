{
 "cells": [
  {
   "cell_type": "markdown",
   "metadata": {},
   "source": [
    "# Check su modello creato"
   ]
  },
  {
   "cell_type": "code",
   "execution_count": 1,
   "metadata": {},
   "outputs": [
    {
     "name": "stderr",
     "output_type": "stream",
     "text": [
      "Using Theano backend.\n"
     ]
    }
   ],
   "source": [
    "#Per prima cosa importiamo tutto ciò di cui abbiamo bisogno\n",
    "import numpy as np\n",
    "import pandas as pd\n",
    "from keras.models import Sequential\n",
    "from keras.layers import Dense\n",
    "import keras.backend\n",
    "from keras.wrappers.scikit_learn import KerasClassifier\n",
    "from sklearn.model_selection import GridSearchCV\n",
    "from keras.optimizers import SGD\n",
    "from numpy.random import seed\n",
    "from sklearn.model_selection import cross_val_score\n",
    "from sklearn.model_selection import StratifiedKFold\n",
    "from sklearn.metrics import f1_score\n",
    "from sklearn.metrics import roc_auc_score\n",
    "from sklearn.metrics import make_scorer\n",
    "from sklearn.metrics import auc\n",
    "from sklearn.metrics import precision_recall_curve\n",
    "from sklearn.externals import joblib\n",
    "from sklearn.model_selection import cross_validate\n",
    "from sklearn.metrics import average_precision_score\n",
    "import copy\n",
    "import matplotlib.pyplot as plt\n",
    "import theano.tensor as T\n",
    "import seaborn as sns\n",
    "from bioinformatics_helpers.utils import interpolated_precision_recall_curve as pr_curve"
   ]
  },
  {
   "cell_type": "code",
   "execution_count": 14,
   "metadata": {},
   "outputs": [],
   "source": [
    "def plot_pr_curve_probas_histogram(probas_pred, y_true):\n",
    "    p,r,t = precision_recall_curve(probas_pred=probas_pred, y_true=y_true, pos_label=1)\n",
    "    f, (ax1, ax2) = plt.subplots(2,sharex=False, sharey=False, gridspec_kw={\"hspace\":1})\n",
    "\n",
    "    fig_test = plt.figure()\n",
    "    ax1.axis([0, 1, 0, 1])\n",
    "    ax1.set_xlabel(\"Recall\")\n",
    "    ax1.set_ylabel(\"Precision\")\n",
    "    ax1.set_title(\"PR Curve\")\n",
    "    r1,p1 = pr_curve(y_prob=probas_pred, y_true=y_true)\n",
    "    ax1.plot(r1,p1)\n",
    "    bins = np.linspace(0,1,10)\n",
    "\n",
    "    ax2.hist(y_true,bins,alpha=0.8)\n",
    "    ax2.set_title('Model output distribution')\n",
    "    print(\"AUPRC: \", np.round(auc(x=r,y=p),decimals=3))\n",
    "    print(\"AUROC: \", np.round(roc_auc_score(y_score=probas_pred, y_true=y_true),decimals=3))\n",
    "    print(\"Avg prec score: \", average_precision_score(y_score=probas_pred, y_true=y_true))\n",
    "    plt.show()"
   ]
  },
  {
   "cell_type": "code",
   "execution_count": 15,
   "metadata": {},
   "outputs": [],
   "source": [
    "def print_stats_on_predictions(positives_probas, negatives_probas):\n",
    "    print(\"positive class probas mean: {:.2f}, std: {:.2f}\"\n",
    "          .format(\n",
    "              np.mean(positives_probas),\n",
    "              np.std(positives_probas)\n",
    "          )\n",
    "         )\n",
    "    print(\"negative class probas mean: {:.2f}, std: {:.2f}\"\n",
    "          .format(\n",
    "              np.mean(negatives_probas),\n",
    "              np.std(negatives_probas)\n",
    "          )\n",
    "         )\n",
    "    #get iqr range\n",
    "    q1_q3 = np.percentile(positives_probas, [25,75])\n",
    "    iqr = q1_q3[1] - q1_q3[0]\n",
    "    bottom_value = q1_q3[0] - (1.5 * iqr)\n",
    "    high_value = q1_q3[1] + (1.5 * iqr)\n",
    "\n",
    "    #high outliers in negative class\n",
    "    negative_class_outliers = negatives_probas[negatives_probas > bottom_value]\n",
    "    print(\"number of negative outliers, prob > {:.3f}: {}\".format(bottom_value,len(negative_class_outliers)))\n"
   ]
  },
  {
   "cell_type": "markdown",
   "metadata": {},
   "source": [
    "### Get dataset"
   ]
  },
  {
   "cell_type": "code",
   "execution_count": null,
   "metadata": {},
   "outputs": [],
   "source": [
    "base_data_folder = \"/home/alessio/dati/\"\n",
    "train_set_filename = base_data_folder + \"Mendelian.train.tsv\"\n",
    "test_set_filename = base_data_folder + \"Mendelian.test.tsv\"\n",
    "\n",
    "train_X = pd.read_csv(train_set_filename, sep='\\t').values\n",
    "test_X = pd.read_csv(test_set_filename, sep='\\t').values\n",
    "#creiamo le label, nel train set i primi 356 esempi sono positivi, nel test i primi 40 sono positivi\n",
    "n_positives = 356\n",
    "n_negatives = train_X.shape[0] - n_positives\n",
    "train_y = np.concatenate((\n",
    "    np.ones(n_positives, dtype=np.int32),\n",
    "    np.zeros(n_negatives, dtype=np.int32)\n",
    "))\n",
    "n_positives = 40\n",
    "n_negatives = test_X.shape[0] - n_positives\n",
    "test_y = np.concatenate((\n",
    "    np.ones(n_positives, dtype=np.int32),\n",
    "    np.zeros(n_negatives, dtype=np.int32)\n",
    "))\n",
    "feature_per_example=26\n",
    "batch_size = 500\n",
    "my_seed = 2024 #imposto un valore di seed da dare a tutti i generatori\n",
    "seed(my_seed) #seed numpy"
   ]
  },
  {
   "cell_type": "markdown",
   "metadata": {},
   "source": [
    "### Loading model "
   ]
  },
  {
   "cell_type": "code",
   "execution_count": 5,
   "metadata": {},
   "outputs": [],
   "source": [
    "def hingesig(y_true, y_pred):\n",
    "    transform_y_true = T.switch(T.eq(y_true,0), -1, y_true)\n",
    "    clipped_y_pred = T.clip(y_pred, 1e-20, 0.9999999)\n",
    "    logit = (T.log2(clipped_y_pred) - T.log2(T.sub(1., clipped_y_pred)))\n",
    "    return T.mean(T.maximum(1. - transform_y_true * logit, 0.), axis=-1)\n",
    "\n",
    "def create_model(loss='binary_crossentropy', activation='tanh'):\n",
    "    model = Sequential()\n",
    "    initializer = keras.initializers.glorot_uniform(seed=my_seed)\n",
    "    model.add(Dense(\n",
    "            300, \n",
    "            input_dim=feature_per_example, \n",
    "            kernel_initializer=initializer,\n",
    "            activation=activation)\n",
    "             )\n",
    "    model.add(Dense(\n",
    "            1,\n",
    "            kernel_initializer=initializer,\n",
    "            activation='sigmoid'\n",
    "    ))\n",
    "    optimizer = SGD(lr=0.01, decay=0, momentum=0, nesterov=False)\n",
    "    model.compile(loss=loss, optimizer=optimizer)\n",
    "    return model\n",
    "\n",
    "best_model = joblib.load(\"best_estimator.pkl\")"
   ]
  },
  {
   "cell_type": "markdown",
   "metadata": {},
   "source": [
    "# Plotting PR curve and output probabilities distribution on the test set"
   ]
  },
  {
   "cell_type": "code",
   "execution_count": 22,
   "metadata": {},
   "outputs": [
    {
     "name": "stdout",
     "output_type": "stream",
     "text": [
      "19018/19018 [==============================] - 0s 12us/step\n",
      "AUPRC:  0.074\n",
      "AUROC:  0.968\n",
      "Avg prec score:  0.08042488047329936\n"
     ]
    },
    {
     "data": {
      "image/png": "[encoded data removed]",
      "text/plain": [
       "<Figure size 432x288 with 2 Axes>"
      ]
     },
     "metadata": {
      "needs_background": "light"
     },
     "output_type": "display_data"
    },
    {
     "data": {
      "text/plain": [
       "<Figure size 432x288 with 0 Axes>"
      ]
     },
     "metadata": {},
     "output_type": "display_data"
    }
   ],
   "source": [
    "best_model_probas = best_model.predict_proba(test_X)[:,1]\n",
    "plot_pr_curve_probas_histogram(best_model_probas, test_y)\n"
   ]
  },
  {
   "cell_type": "code",
   "execution_count": 23,
   "metadata": {},
   "outputs": [
    {
     "name": "stdout",
     "output_type": "stream",
     "text": [
      "positive class probas mean: 0.26, std: 0.04\n",
      "negative class probas mean: 0.13, std: 0.04\n",
      "number of negative outliers, prob > 0.244: 500\n"
     ]
    },
    {
     "data": {
      "image/png": "[encoded data removed]",
      "text/plain": [
       "<Figure size 432x288 with 1 Axes>"
      ]
     },
     "metadata": {
      "needs_background": "light"
     },
     "output_type": "display_data"
    }
   ],
   "source": [
    "test_probas_positives = best_model_probas[:40]\n",
    "test_probas_negatives = best_model_probas[40:]\n",
    "print_stats_on_predictions(test_probas_positives, test_probas_negatives)\n",
    "data=[test_probas_negatives, test_probas_positives]\n",
    "ax = sns.boxplot(data=data)"
   ]
  },
  {
   "cell_type": "markdown",
   "metadata": {},
   "source": [
    "# Plotting PR curve and output probabilities distribution on the training set"
   ]
  },
  {
   "cell_type": "code",
   "execution_count": 25,
   "metadata": {},
   "outputs": [
    {
     "name": "stdout",
     "output_type": "stream",
     "text": [
      "981388/981388 [==============================] - 14s 15us/step\n",
      "AUPRC:  0.11\n",
      "AUROC:  0.956\n",
      "Avg prec score:  0.11179578477682536\n"
     ]
    },
    {
     "data": {
      "image/png": "[encoded data removed]",
      "text/plain": [
       "<Figure size 432x288 with 2 Axes>"
      ]
     },
     "metadata": {
      "needs_background": "light"
     },
     "output_type": "display_data"
    },
    {
     "data": {
      "text/plain": [
       "<Figure size 432x288 with 0 Axes>"
      ]
     },
     "metadata": {},
     "output_type": "display_data"
    }
   ],
   "source": [
    "best_model_train_probas = best_model.predict_proba(train_X)[:,1]\n",
    "plot_pr_curve_probas_histogram(best_model_train_probas, y_true=train_y)"
   ]
  },
  {
   "cell_type": "code",
   "execution_count": 26,
   "metadata": {},
   "outputs": [
    {
     "name": "stdout",
     "output_type": "stream",
     "text": [
      "positive class probas mean: 0.26, std: 0.04\n",
      "negative class probas mean: 0.13, std: 0.04\n",
      "number of negative outliers, prob > 0.244: 500\n"
     ]
    },
    {
     "data": {
      "image/png": "[encoded data removed]",
      "text/plain": [
       "<Figure size 432x288 with 1 Axes>"
      ]
     },
     "metadata": {
      "needs_background": "light"
     },
     "output_type": "display_data"
    }
   ],
   "source": [
    "train_probas_positives = best_model_train_probas[:356]\n",
    "train_probas_negatives = best_model_train_probas[356:]\n",
    "print_stats_on_predictions(test_probas_positives, test_probas_negatives)\n",
    "data=[test_probas_negatives, test_probas_positives]\n",
    "ax = sns.boxplot(data=data)"
   ]
  }
 ],
 "metadata": {
  "kernelspec": {
   "display_name": "Python 3",
   "language": "python",
   "name": "python3"
  },
  "language_info": {
   "codemirror_mode": {
    "name": "ipython",
    "version": 3
   },
   "file_extension": ".py",
   "mimetype": "text/x-python",
   "name": "python",
   "nbconvert_exporter": "python",
   "pygments_lexer": "ipython3",
   "version": "3.6.6"
  }
 },
 "nbformat": 4,
 "nbformat_minor": 2
}
